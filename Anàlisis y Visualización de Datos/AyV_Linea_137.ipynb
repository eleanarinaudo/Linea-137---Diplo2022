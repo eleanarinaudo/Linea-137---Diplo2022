{
 "cells": [
  {
   "cell_type": "markdown",
   "metadata": {
    "id": "J9755p0nPugn"
   },
   "source": [
    "<html>\n",
    "  <h1 align=\"center\";> Diplomatura en Ciencia de Datos, Aprendizaje Automático y sus Aplicaciones\n",
    "  </h1>\n",
    "<hr>\n",
    "  <h3 align=\"center\";>\n",
    "  Edición 2022\n",
    "  </h3>\n",
    "<hr>\n",
    "  <h1 align=\"center\";>\n",
    "  Llamados Atendidos de Violencia Familiar Unificado con Series Temporales\n",
    "  </h1>\n",
    "<hr>\n",
    "  <h2 align=\"center\";>\n",
    "  Trabajo Práctico 1 - Análisis y Visualización\n",
    "  </h2>\n",
    "</html>"
   ]
  },
  {
   "cell_type": "markdown",
   "metadata": {
    "id": "ULJH6kNxau-H"
   },
   "source": [
    "## Mentora:\n",
    "- Isabel Rivadero\n",
    "\n",
    "## Integrantes:\n",
    "- Kunzmann, Natalia\n",
    "- Rinaudo, Eleana\n",
    "- Sulca, Anahí"
   ]
  },
  {
   "cell_type": "markdown",
   "metadata": {
    "id": "Zoio_kBMPzyN"
   },
   "source": [
    "## Descripción\n",
    "\n",
    "Los datos corresponden a información recopilada correspondiente a los llamados de todo el país atendidos por los y las profesionales del 137 sobre casos de Violencia Familiar desde Enero de 2017 hasta Febrero del 2022 organizados de manera unificada.\n",
    "\n",
    "Pueden consultar en:\n",
    "[Dataset Línea 137 - Victimas de Violencia Familiar](http://datos.jus.gob.ar/dataset/linea-137-victimas-de-violencia-familiar)\n",
    "\n",
    "El dataset contiene información de:\n",
    "-  `id`\n",
    "- `descripcion del llamante`\n",
    "- `género del llamante`\n",
    "- `tipo de violencia`\n",
    "- `género de la víctima`\n",
    "- `cantidad de victimas`\n",
    "- `cantidad de agresores`\n",
    "- `género del agresor`\n",
    "- `relación con la víctima`\n",
    "- `fecha`\n",
    "- `hora de la llamada`.\n",
    "\n",
    "Repositorio con los datos listos para procesar:\n",
    "- [Repositorio Mentoría](https://github.com/IsabelRivadero/ir-mentoria2022)"
   ]
  },
  {
   "cell_type": "markdown",
   "metadata": {
    "id": "V1eg8M6-QihL"
   },
   "source": [
    "---\n",
    "## Objetivo\n",
    "\n",
    "Realizar el **análisis**, **cuantificar variables** y describir las relaciones existentes y de interés presentes en la información recopilada sobre casos de Violencia\n",
    "Familiar.\n",
    "\n",
    "Elaborar **visualizaciones** para entender mejor estas relaciones."
   ]
  },
  {
   "cell_type": "markdown",
   "metadata": {
    "id": "33EebOvlRAuR"
   },
   "source": [
    "---\n",
    "## Consignas:\n",
    "\n",
    "1. Realizar análisis de cada columna por separado, de las combinaciones de columnas que tengan sentido dos a dos y porque les parece que tienen sentido. Si alguna relación de más de dos columnas les parece interesante,\n",
    "justificar porqué y analizar.\n",
    "(Excluir los datos de fechas y horas por el momento)\n",
    "El análisis total debe incluir: Análisis de tipos, Conteos, Promedios, Mediana y Moda cuando correspondan los tipos de datos, con una breve descripción de lo que\n",
    "se observa.\n",
    "\n",
    "2. Visualizaciones para las relaciones que tengan información que consideren\n",
    "de importancia. Al pie de cada gráfico describir lo que se observa.\n"
   ]
  },
  {
   "cell_type": "markdown",
   "metadata": {
    "id": "qoQAAHQuRUtD"
   },
   "source": [
    "---\n",
    "## A modo de guía buscar responder las siguientes preguntas con el análisis:\n",
    "- ¿De qué género son los/las denunciantes?\n",
    "- ¿Qué relación existe con el/la agresor?  \n",
    "- ¿Qué vínculo existe entre la víctima con el llamante? \n",
    "- ¿Cuál es la relación entre la derivación de la llamada y el llamante? \n",
    "- ¿Cuál es la cantidad de víctimas/agresores?"
   ]
  },
  {
   "cell_type": "markdown",
   "metadata": {
    "id": "2UzFS_rrgMRX"
   },
   "source": [
    "<html>\n",
    "<hr>\n",
    "  <h1 align=\"center\";>\n",
    "  Desarrollo\n",
    "  </h1>\n",
    "</html>"
   ]
  },
  {
   "cell_type": "markdown",
   "metadata": {
    "id": "ovGWaQAWjVZy"
   },
   "source": [
    "## Importación de librerías\n",
    "\n",
    "Importamos la librerías que vamos a utilizar en la Mentoría."
   ]
  },
  {
   "cell_type": "code",
   "execution_count": 1,
   "metadata": {
    "id": "YWrT_K_sPdhl"
   },
   "outputs": [],
   "source": [
    "import io\n",
    "import matplotlib\n",
    "import matplotlib.pyplot as plt\n",
    "import numpy\n",
    "import pandas as pd\n",
    "import seaborn as sns\n",
    "\n",
    "pd.set_option(\"display.max_columns\", 20)\n",
    "pd.set_option(\"display.max_rows\", 20)\n",
    "sns.set_context(\"talk\")\n"
   ]
  },
  {
   "cell_type": "markdown",
   "metadata": {
    "id": "5cNwgJZnj2K1"
   },
   "source": [
    "## Lectura del dataset\n",
    "\n",
    "Detalle de los llamados de todo el país atendidos por las y los profesionales de la Línea 137, de alcance nacional, sobre casos de Violencia Familiar. La unidad de análisis en este recurso es la víctima principal del caso. Cada fila identifica un llamado y su víctima principal. Corresponde al período comprendido desde Enero de 2017 hasta Febrero del 2022 organizados de manera unificada. Pueden consultar mas información en\n",
    "[Dataset Línea 137 - Victimas de Violencia Familiar](http://datos.jus.gob.ar/dataset/linea-137-victimas-de-violencia-familiar).\n",
    "\n",
    "Para poder leer nuestro dataset necesitamos descargarlo desde el [Repositorio de la Mentoría](https://github.com/IsabelRivadero/ir-mentoria2022).\n"
   ]
  },
  {
   "cell_type": "code",
   "execution_count": 2,
   "metadata": {
    "id": "x1yOCrXE0zwP"
   },
   "outputs": [],
   "source": [
    "url = \"https://raw.githubusercontent.com/IsabelRivadero/ir-mentoria2022/main/llamados_atendidos_violencia_familiar_201701_202202_mentorias.csv\"\n",
    "linea137_df = pd.read_csv(url, index_col=0, parse_dates=[0])\n"
   ]
  },
  {
   "cell_type": "markdown",
   "metadata": {
    "id": "veiEXTK3oWlc"
   },
   "source": [
    "Creamos el DataFrame que lo asignamos con la variable `linea137_df` y, además, usamos el método `pd.read_csv` que lee el dataset en Dataframe.\n"
   ]
  },
  {
   "cell_type": "markdown",
   "metadata": {
    "id": "dq_FEJGmvbKI"
   },
   "source": [
    "Veamos el contenido del DataFrame: `linea137_df`."
   ]
  },
  {
   "cell_type": "code",
   "execution_count": 3,
   "metadata": {
    "colab": {
     "base_uri": "https://localhost:8080/",
     "height": 444
    },
    "id": "vrV1UqksoRtS",
    "outputId": "32b145d5-9ec2-4854-f701-91e1700107ab"
   },
   "outputs": [
    {
     "data": {
      "text/html": [
       "<div>\n",
       "<style scoped>\n",
       "    .dataframe tbody tr th:only-of-type {\n",
       "        vertical-align: middle;\n",
       "    }\n",
       "\n",
       "    .dataframe tbody tr th {\n",
       "        vertical-align: top;\n",
       "    }\n",
       "\n",
       "    .dataframe thead th {\n",
       "        text-align: right;\n",
       "    }\n",
       "</style>\n",
       "<table border=\"1\" class=\"dataframe\">\n",
       "  <thead>\n",
       "    <tr style=\"text-align: right;\">\n",
       "      <th></th>\n",
       "      <th>caso_id</th>\n",
       "      <th>llamante_descripcion</th>\n",
       "      <th>llamante_genero</th>\n",
       "      <th>llamante_vinculo_ninios_presentes</th>\n",
       "      <th>violencia_tipo</th>\n",
       "      <th>victima_genero</th>\n",
       "      <th>victima_cantidad</th>\n",
       "      <th>agresor_cantidad</th>\n",
       "      <th>agresor_genero</th>\n",
       "      <th>agresor_relacion_victima</th>\n",
       "      <th>llamado_derivacion</th>\n",
       "      <th>llamado_fecha</th>\n",
       "      <th>llamado_hora</th>\n",
       "    </tr>\n",
       "  </thead>\n",
       "  <tbody>\n",
       "    <tr>\n",
       "      <th>0</th>\n",
       "      <td>344552.0</td>\n",
       "      <td>Comisaría</td>\n",
       "      <td>Masculino</td>\n",
       "      <td>Otra/o no familiar</td>\n",
       "      <td>Física y psicológica</td>\n",
       "      <td>Femenino</td>\n",
       "      <td>3</td>\n",
       "      <td>1</td>\n",
       "      <td>Masculino</td>\n",
       "      <td>Pareja</td>\n",
       "      <td>La víctima no aceptó la intervención del Equip...</td>\n",
       "      <td>2017-01-01</td>\n",
       "      <td>1:37</td>\n",
       "    </tr>\n",
       "    <tr>\n",
       "      <th>1</th>\n",
       "      <td>344553.0</td>\n",
       "      <td>Comisaría</td>\n",
       "      <td>Femenino</td>\n",
       "      <td>Sin datos</td>\n",
       "      <td>Física y psicológica</td>\n",
       "      <td>Femenino</td>\n",
       "      <td>2</td>\n",
       "      <td>1</td>\n",
       "      <td>Masculino</td>\n",
       "      <td>Hermano/a</td>\n",
       "      <td>Llamante solicitó información y/o orientación</td>\n",
       "      <td>2017-01-01</td>\n",
       "      <td>6:42</td>\n",
       "    </tr>\n",
       "    <tr>\n",
       "      <th>2</th>\n",
       "      <td>344554.0</td>\n",
       "      <td>Víctima</td>\n",
       "      <td>Femenino</td>\n",
       "      <td>Madre</td>\n",
       "      <td>Física y psicológica</td>\n",
       "      <td>Femenino</td>\n",
       "      <td>1</td>\n",
       "      <td>1</td>\n",
       "      <td>Masculino</td>\n",
       "      <td>Pareja</td>\n",
       "      <td>Llamante solicitó información y/o orientación</td>\n",
       "      <td>2017-01-01</td>\n",
       "      <td>6:48</td>\n",
       "    </tr>\n",
       "    <tr>\n",
       "      <th>3</th>\n",
       "      <td>344555.0</td>\n",
       "      <td>Víctima</td>\n",
       "      <td>Femenino</td>\n",
       "      <td>No hay niñas/os</td>\n",
       "      <td>Física y psicológica</td>\n",
       "      <td>Femenino</td>\n",
       "      <td>1</td>\n",
       "      <td>1</td>\n",
       "      <td>Masculino</td>\n",
       "      <td>Pareja</td>\n",
       "      <td>Llamante solicitó información y/o orientación</td>\n",
       "      <td>2017-01-01</td>\n",
       "      <td>6:54</td>\n",
       "    </tr>\n",
       "    <tr>\n",
       "      <th>4</th>\n",
       "      <td>344556.0</td>\n",
       "      <td>Comisaría</td>\n",
       "      <td>Masculino</td>\n",
       "      <td>Otra/o no familiar</td>\n",
       "      <td>Psicológica</td>\n",
       "      <td>Masculino</td>\n",
       "      <td>1</td>\n",
       "      <td>1</td>\n",
       "      <td>Femenino</td>\n",
       "      <td>Madre</td>\n",
       "      <td>Llamante solicitó información y/o orientación</td>\n",
       "      <td>2017-01-01</td>\n",
       "      <td>7:11</td>\n",
       "    </tr>\n",
       "  </tbody>\n",
       "</table>\n",
       "</div>"
      ],
      "text/plain": [
       "    caso_id llamante_descripcion llamante_genero  \\\n",
       "0  344552.0            Comisaría       Masculino   \n",
       "1  344553.0            Comisaría        Femenino   \n",
       "2  344554.0              Víctima        Femenino   \n",
       "3  344555.0              Víctima        Femenino   \n",
       "4  344556.0            Comisaría       Masculino   \n",
       "\n",
       "  llamante_vinculo_ninios_presentes        violencia_tipo victima_genero  \\\n",
       "0                Otra/o no familiar  Física y psicológica       Femenino   \n",
       "1                         Sin datos  Física y psicológica       Femenino   \n",
       "2                             Madre  Física y psicológica       Femenino   \n",
       "3                   No hay niñas/os  Física y psicológica       Femenino   \n",
       "4                Otra/o no familiar           Psicológica      Masculino   \n",
       "\n",
       "   victima_cantidad  agresor_cantidad agresor_genero agresor_relacion_victima  \\\n",
       "0                 3                 1      Masculino                   Pareja   \n",
       "1                 2                 1      Masculino                Hermano/a   \n",
       "2                 1                 1      Masculino                   Pareja   \n",
       "3                 1                 1      Masculino                   Pareja   \n",
       "4                 1                 1       Femenino                    Madre   \n",
       "\n",
       "                                  llamado_derivacion llamado_fecha  \\\n",
       "0  La víctima no aceptó la intervención del Equip...    2017-01-01   \n",
       "1      Llamante solicitó información y/o orientación    2017-01-01   \n",
       "2      Llamante solicitó información y/o orientación    2017-01-01   \n",
       "3      Llamante solicitó información y/o orientación    2017-01-01   \n",
       "4      Llamante solicitó información y/o orientación    2017-01-01   \n",
       "\n",
       "  llamado_hora  \n",
       "0         1:37  \n",
       "1         6:42  \n",
       "2         6:48  \n",
       "3         6:54  \n",
       "4         7:11  "
      ]
     },
     "execution_count": 3,
     "metadata": {},
     "output_type": "execute_result"
    }
   ],
   "source": [
    "linea137_df.head()\n"
   ]
  },
  {
   "cell_type": "markdown",
   "metadata": {
    "id": "lXVgdPClyUW4"
   },
   "source": [
    "Usamos el método `head()` que nos retorna las primeras cinco filas."
   ]
  },
  {
   "cell_type": "markdown",
   "metadata": {
    "id": "gFoONNCKzTi3"
   },
   "source": [
    "## Partimos de un dataframe con las siguientes características:"
   ]
  },
  {
   "cell_type": "markdown",
   "metadata": {
    "id": "vJDa9DufzPBv"
   },
   "source": [
    "Con la funcion `.shape`, nos devuelve la cantidad de **filas** de nuestro conjunto de datos y el segundo valor es la cantidad de **columnas**."
   ]
  },
  {
   "cell_type": "code",
   "execution_count": 4,
   "metadata": {
    "colab": {
     "base_uri": "https://localhost:8080/"
    },
    "id": "-i1kLf8nzByH",
    "outputId": "a8c0ba3a-82ac-43a9-d517-0e0c179bc6bc"
   },
   "outputs": [
    {
     "name": "stdout",
     "output_type": "stream",
     "text": [
      "Cantidad de filas: 45703\n",
      "Cantidad de columnas: 13\n",
      "Cantidad de datos: (45703, 13)\n"
     ]
    }
   ],
   "source": [
    "print(\"Cantidad de filas:\", linea137_df.shape[0])\n",
    "print(\"Cantidad de columnas:\", linea137_df.shape[1])\n",
    "print(\"Cantidad de datos:\", linea137_df.shape)\n"
   ]
  },
  {
   "cell_type": "markdown",
   "metadata": {
    "id": "EmcwEvmZzNNm"
   },
   "source": [
    "La función `.columns`, nos devuelve una lista de los nombres de cada una de las **columnas** de nuestro `DataFrame`.\n",
    "\n",
    "Es importante saber el nombre de las **columnas** de nuestro `DataFrame` así podemos trabajar con los datos de las columnas de nuestro interés y aplicar diferentes análisis para obtener conclusiones."
   ]
  },
  {
   "cell_type": "code",
   "execution_count": 5,
   "metadata": {
    "colab": {
     "base_uri": "https://localhost:8080/"
    },
    "id": "Nrq-Cmk4znPA",
    "outputId": "bd8a5cb0-c909-4c73-cafb-94ab530574e3"
   },
   "outputs": [
    {
     "data": {
      "text/plain": [
       "['caso_id',\n",
       " 'llamante_descripcion',\n",
       " 'llamante_genero',\n",
       " 'llamante_vinculo_ninios_presentes',\n",
       " 'violencia_tipo',\n",
       " 'victima_genero',\n",
       " 'victima_cantidad',\n",
       " 'agresor_cantidad',\n",
       " 'agresor_genero',\n",
       " 'agresor_relacion_victima',\n",
       " 'llamado_derivacion',\n",
       " 'llamado_fecha',\n",
       " 'llamado_hora']"
      ]
     },
     "execution_count": 5,
     "metadata": {},
     "output_type": "execute_result"
    }
   ],
   "source": [
    "list(linea137_df.columns)\n"
   ]
  },
  {
   "cell_type": "markdown",
   "metadata": {
    "id": "TRG_Y-BXycFm"
   },
   "source": [
    "# Datos"
   ]
  },
  {
   "cell_type": "markdown",
   "metadata": {
    "id": "bebTYmPv0ImG"
   },
   "source": [
    "\n",
    "- Tipo de Datos:\n",
    "  - Variable Aleatoria Categóricas\n",
    "    1. `llamante_descripcion`\n",
    "    2. `llamante_genero`\n",
    "    3. `llamante_vinculo_ninios_presentes`\n",
    "    4. `violencia_tipo`\n",
    "    5. `victima_genero`\n",
    "    6. `agresor_genero`\n",
    "    7. `agresor_relacion_victima`\n",
    "    8. `llamado_derivacion`\n",
    "  - Variable Aleatoria Numérica:\n",
    "    9. `victima_cantidad`\n",
    "    10. `agresor_cantidad`\n"
   ]
  },
  {
   "cell_type": "markdown",
   "metadata": {
    "id": "9vYtVsWV12_5"
   },
   "source": [
    "Con el método `dtypes` podemos acceder a los tipos de datos del csv. \n",
    "\n",
    "El tipo `object` se utiliza para representar cualquier variable ordinales, `float64` para representar tipos continuos e `int64` como tipos discretos."
   ]
  },
  {
   "cell_type": "code",
   "execution_count": 6,
   "metadata": {
    "colab": {
     "base_uri": "https://localhost:8080/"
    },
    "id": "KOQV--cBye9V",
    "outputId": "9d642e11-7c8a-47df-d732-cf98c1f6edc6"
   },
   "outputs": [
    {
     "data": {
      "text/plain": [
       "caso_id                              float64\n",
       "llamante_descripcion                  object\n",
       "llamante_genero                       object\n",
       "llamante_vinculo_ninios_presentes     object\n",
       "violencia_tipo                        object\n",
       "victima_genero                        object\n",
       "victima_cantidad                       int64\n",
       "agresor_cantidad                       int64\n",
       "agresor_genero                        object\n",
       "agresor_relacion_victima              object\n",
       "llamado_derivacion                    object\n",
       "llamado_fecha                         object\n",
       "llamado_hora                          object\n",
       "dtype: object"
      ]
     },
     "execution_count": 6,
     "metadata": {},
     "output_type": "execute_result"
    }
   ],
   "source": [
    "linea137_df.dtypes[:20]\n"
   ]
  },
  {
   "cell_type": "markdown",
   "metadata": {
    "id": "ScHTTewAdetq"
   },
   "source": [
    "<html>\n",
    "<hr>\n",
    "  <h1 align=\"center\";>\n",
    "  Variables Aleatorias Categóricas\n",
    "  </h1>\n",
    "<hr>\n",
    "</html>"
   ]
  },
  {
   "cell_type": "markdown",
   "metadata": {
    "id": "Ni52gwS1etMA"
   },
   "source": [
    "<html>\n",
    "  <h1 align=\"center\";>\n",
    "  1. Análisis columna <code>llamante_descripcion</code>\n",
    "  </h1>\n",
    "</html>\n",
    "\n",
    "Describe quién realiza el llamado. Puede indicar personas o instituciones."
   ]
  },
  {
   "cell_type": "markdown",
   "metadata": {
    "id": "9vQ8b3VJxgkH"
   },
   "source": [
    "Primero vemos qué valores están tomando cada una de las variables."
   ]
  },
  {
   "cell_type": "code",
   "execution_count": 7,
   "metadata": {
    "colab": {
     "base_uri": "https://localhost:8080/"
    },
    "id": "EJmBV3iSxsQ8",
    "outputId": "026c0c2f-97bf-4a78-bade-c5b4e6f0247e"
   },
   "outputs": [
    {
     "data": {
      "text/plain": [
       "Víctima                                             13979\n",
       "Comisaría                                           10981\n",
       "Familiar                                             5889\n",
       "Profesionales de la Línea 137                        3941\n",
       "Otra/o sobre una situación de conflicto familiar     3719\n",
       "Vecina/o                                             2507\n",
       "Otra institución                                     1276\n",
       "NS/NC                                                1033\n",
       "Otro/a                                                883\n",
       "Otro/a particular                                     641\n",
       "Hospital                                              625\n",
       "Agresor/a                                             167\n",
       "Otra Institución                                       39\n",
       "Defensoría                                             23\n",
       "Name: llamante_descripcion, dtype: int64"
      ]
     },
     "execution_count": 7,
     "metadata": {},
     "output_type": "execute_result"
    }
   ],
   "source": [
    "linea137_df.llamante_descripcion.value_counts()\n"
   ]
  },
  {
   "cell_type": "markdown",
   "metadata": {
    "id": "ALDpOaH9XDcY"
   },
   "source": [
    "Se observan datos sucios, repetidos en distinto orden. Por lo tanto se procede a homogeneizar y agruparlos en primer lugar."
   ]
  },
  {
   "cell_type": "code",
   "execution_count": 8,
   "metadata": {
    "id": "ANB-s_jgXEIq"
   },
   "outputs": [],
   "source": [
    "linea137_df[\"llamante_descripcion\"] = (\n",
    "    linea137_df[\"llamante_descripcion\"]\n",
    "    .replace(\"Otra/o sobre una situación de conflicto familiar\", \"Otra/o particular\")\n",
    "    .replace(\"Otro/a\", \"Otra/o particular\")\n",
    "    .replace(\"Otro/a particular\", \"Otra/o particular\")\n",
    ")\n",
    "\n",
    "linea137_df[\"llamante_descripcion\"] = (\n",
    "    linea137_df[\"llamante_descripcion\"]\n",
    "    .replace(\"Defensoría\", \"Otra Institución\")\n",
    "    .replace(\"Otra institución\", \"Otra Institución\")\n",
    ")\n",
    "\n",
    "linea137_df[\"llamante_descripcion\"] = linea137_df[\"llamante_descripcion\"].replace(\n",
    "    \"Profesionales de la Línea 137\", \"Profesionales Línea 137\"\n",
    ")\n"
   ]
  },
  {
   "cell_type": "markdown",
   "metadata": {
    "id": "wff_E_2LX1ej"
   },
   "source": [
    "Quedando de la siguiente manera los datos un poco más limpios:"
   ]
  },
  {
   "cell_type": "code",
   "execution_count": 9,
   "metadata": {
    "colab": {
     "base_uri": "https://localhost:8080/"
    },
    "id": "Sz_eH5JBX166",
    "outputId": "ad2e7a3e-4f0f-4086-f2ec-031364b2c882"
   },
   "outputs": [
    {
     "data": {
      "text/plain": [
       "Víctima                    13979\n",
       "Comisaría                  10981\n",
       "Familiar                    5889\n",
       "Otra/o particular           5243\n",
       "Profesionales Línea 137     3941\n",
       "Vecina/o                    2507\n",
       "Otra Institución            1338\n",
       "NS/NC                       1033\n",
       "Hospital                     625\n",
       "Agresor/a                    167\n",
       "Name: llamante_descripcion, dtype: int64"
      ]
     },
     "execution_count": 9,
     "metadata": {},
     "output_type": "execute_result"
    }
   ],
   "source": [
    "linea137_df.llamante_descripcion.value_counts()\n"
   ]
  },
  {
   "cell_type": "markdown",
   "metadata": {
    "id": "_LZJq_2TQ9Qw"
   },
   "source": [
    "Creamos un **histograma** para estudiar la distribución de **descripción del llamante**"
   ]
  },
  {
   "cell_type": "code",
   "execution_count": 10,
   "metadata": {
    "colab": {
     "base_uri": "https://localhost:8080/",
     "height": 613
    },
    "id": "5ztogf7POQvI",
    "outputId": "9fb9dcd5-3105-4ad5-cc58-516d1d160925"
   },
   "outputs": [
    {
     "data": {
      "image/png": "[encoded data removed]",
      "text/plain": [
       "<Figure size 864x576 with 1 Axes>"
      ]
     },
     "metadata": {
      "needs_background": "light"
     },
     "output_type": "display_data"
    }
   ],
   "source": [
    "fig = plt.figure(figsize=(12, 8))\n",
    "sns.set_theme(style=\"whitegrid\", palette=\"Set2\")\n",
    "sns.countplot(\n",
    "    data=linea137_df,\n",
    "    x=\"llamante_descripcion\",\n",
    "    order=linea137_df[\"llamante_descripcion\"].value_counts().index,\n",
    ")\n",
    "\n",
    "plt.xlabel(\"Descripción Llamante\", size=14)\n",
    "plt.ylabel(\"Frecuencia\", size=14)\n",
    "plt.title(\"Distribución Descripción Llamante\", size=16)\n",
    "plt.xticks(rotation=45)\n",
    "plt.show()\n"
   ]
  },
  {
   "cell_type": "code",
   "execution_count": 11,
   "metadata": {
    "colab": {
     "base_uri": "https://localhost:8080/"
    },
    "id": "kZHOwZ-eLEOo",
    "outputId": "f1fcdb57-96b4-4d1c-9018-7306047385eb"
   },
   "outputs": [
    {
     "name": "stdout",
     "output_type": "stream",
     "text": [
      "De las 45703 llamadas totales:\n",
      " 30.59 % fueron hechas por la misma víctima,\n",
      " 24.03 % fueron hechas desde la comisaría,\n",
      " 12.91 % fueron hechas por un familiar de la víctima.\n",
      " 11.47 % fueron hechas por otra persona,\n",
      " 8.62 % fueron hechas por un profesional de la Línea 137,\n",
      " 5.49 % fueron hechas por una vecina de la víctima.\n"
     ]
    }
   ],
   "source": [
    "llamadas_totales = 45703\n",
    "llamadas_victima = 13979\n",
    "llamadas_comisaria = 10981\n",
    "llamadas_familiar = 5899\n",
    "llamadas_otro = 5243\n",
    "llamadas_137 = 3941\n",
    "llamadas_vecina = 2507\n",
    "\n",
    "Porc_llam_vict = (llamadas_victima / llamadas_totales) * 100\n",
    "Porc_llam_com = (llamadas_comisaria / llamadas_totales) * 100\n",
    "Porc_llam_fam = (llamadas_familiar / llamadas_totales) * 100\n",
    "Porc_llam_otro = (llamadas_otro / llamadas_totales) * 100\n",
    "Porc_llam_137 = (llamadas_137 / llamadas_totales) * 100\n",
    "Porc_llam_vec = (llamadas_vecina / llamadas_totales) * 100\n",
    "print(\n",
    "    \"De las\",\n",
    "    llamadas_totales,\n",
    "    \"llamadas totales:\\n\",\n",
    "    round(Porc_llam_vict, 2),\n",
    "    \"% fueron hechas por la misma víctima,\\n\",\n",
    "    round(Porc_llam_com, 2),\n",
    "    \"% fueron hechas desde la comisaría,\\n\",\n",
    "    round(Porc_llam_fam, 2),\n",
    "    \"% fueron hechas por un familiar de la víctima.\\n\",\n",
    "    round(Porc_llam_otro, 2),\n",
    "    \"% fueron hechas por otra persona,\\n\",\n",
    "    round(Porc_llam_137, 2),\n",
    "    \"% fueron hechas por un profesional de la Línea 137,\\n\",\n",
    "    round(Porc_llam_vec, 2),\n",
    "    \"% fueron hechas por una vecina de la víctima.\",\n",
    ")\n"
   ]
  },
  {
   "cell_type": "markdown",
   "metadata": {
    "id": "7cd1GWSFK02O"
   },
   "source": [
    ">**Observación:**\n",
    ">\n",
    ">- Se puede ver en esta distribución que la mayoría de las llamadas son hechas por la misma víctima.\n",
    ">- En segundo lugar vienen las llamadas hechas desde la comisaría y en tercer lugar llamadas hechas por un familiar de la víctima.\n",
    ">- También llaman terceros no familiares de las víctimas, profesionales de la línea 137, o hasta vecinos de las mismas."
   ]
  },
  {
   "cell_type": "markdown",
   "metadata": {
    "id": "n9-fedvDQdc0"
   },
   "source": [
    "<html>\n",
    "  <h1 align=\"center\";>\n",
    "  2. Análisis columna <code>llamante_genero</code>\n",
    "  </h1>\n",
    "</html>\n",
    "Describe el género de la persona que realiza el llamado. Puede tomar los valores:\n",
    "\n",
    "- Masculino\n",
    "- Femenino\n",
    "- Trans\n",
    "- NS/NC: No sabe / No contesta\n",
    "\n"
   ]
  },
  {
   "cell_type": "markdown",
   "metadata": {
    "id": "Ppqe2Cs0yOTm"
   },
   "source": [
    "#### Primero vemos qué valores están tomando cada una de las variables."
   ]
  },
  {
   "cell_type": "code",
   "execution_count": 12,
   "metadata": {
    "colab": {
     "base_uri": "https://localhost:8080/"
    },
    "id": "V_JGjnjQmWTR",
    "outputId": "54065ad6-4e81-435d-d9b6-5523138379a4"
   },
   "outputs": [
    {
     "data": {
      "text/plain": [
       "Femenino       29106\n",
       "Masculino      10332\n",
       "NS/NC           6235\n",
       "Transgénero       30\n",
       "Name: llamante_genero, dtype: int64"
      ]
     },
     "execution_count": 12,
     "metadata": {},
     "output_type": "execute_result"
    }
   ],
   "source": [
    "linea137_df.llamante_genero.value_counts()\n"
   ]
  },
  {
   "cell_type": "markdown",
   "metadata": {
    "id": "gD9gJPpKySUu"
   },
   "source": [
    "Creamos un **histograma** para estudiar la distribución de género del llamante"
   ]
  },
  {
   "cell_type": "code",
   "execution_count": 13,
   "metadata": {
    "colab": {
     "base_uri": "https://localhost:8080/",
     "height": 522
    },
    "id": "VA8iWcJFyU5l",
    "outputId": "303a93a7-4637-4c5d-dac5-52d2c4e8c74e"
   },
   "outputs": [
    {
     "data": {
      "image/png": "[encoded data removed]",
      "text/plain": [
       "<Figure size 576x576 with 1 Axes>"
      ]
     },
     "metadata": {},
     "output_type": "display_data"
    }
   ],
   "source": [
    "fig = plt.figure(figsize=(8, 8))\n",
    "sns.set_theme(style=\"whitegrid\", palette=\"Set2\")\n",
    "sns.countplot(\n",
    "    data=linea137_df,\n",
    "    x=\"llamante_genero\",\n",
    "    order=linea137_df[\"llamante_genero\"].value_counts().index,\n",
    ")\n",
    "\n",
    "plt.xlabel(\"Género llamante\", size=14)\n",
    "plt.ylabel(\"Frecuencia\", size=14)\n",
    "plt.title(\"Distribución Género Llamante\", size=16)\n",
    "plt.show()\n"
   ]
  },
  {
   "cell_type": "code",
   "execution_count": 14,
   "metadata": {
    "colab": {
     "base_uri": "https://localhost:8080/"
    },
    "id": "kbku042MR1ze",
    "outputId": "e4b814f7-64b0-4cb5-ade5-dbd2a5d8454b"
   },
   "outputs": [
    {
     "name": "stdout",
     "output_type": "stream",
     "text": [
      "De las 45703 llamadas totales, 63.69 % fueron hechas por una persona de género femenino.\n"
     ]
    }
   ],
   "source": [
    "llamadas_totales = 45703\n",
    "genero_femenino = 29106\n",
    "Porc_gen_fem = (genero_femenino / llamadas_totales) * 100\n",
    "print(\n",
    "    \"De las\",\n",
    "    llamadas_totales,\n",
    "    \"llamadas totales,\",\n",
    "    round(Porc_gen_fem, 2),\n",
    "    \"% fueron hechas por una persona de género femenino.\",\n",
    ")\n"
   ]
  },
  {
   "cell_type": "markdown",
   "metadata": {
    "id": "tUCxEImVRb4B"
   },
   "source": [
    ">**Observación:**\n",
    ">\n",
    ">- Se puede ver en esta distribución que la gran mayoría de las llamadas son hechas por una mujer.\n",
    ">"
   ]
  },
  {
   "cell_type": "markdown",
   "metadata": {
    "id": "2nbQBTewQntw"
   },
   "source": [
    "<html>\n",
    "  <h1 align=\"center\";>\n",
    "  3. Análisis columna <code>llamante_vinculo_ninios_presentes</code>\n",
    "  </h1>\n",
    "</html>\n",
    "\n",
    "Describe el vínculo que tiene la persona que realiza el llamado con niños/as presentes en el hecho"
   ]
  },
  {
   "cell_type": "markdown",
   "metadata": {
    "id": "Pq-h3QF_0kj_"
   },
   "source": [
    "#### Primero vemos qué valores están tomando cada una de las variables."
   ]
  },
  {
   "cell_type": "code",
   "execution_count": 15,
   "metadata": {
    "colab": {
     "base_uri": "https://localhost:8080/"
    },
    "id": "qWNtNf-UmW-a",
    "outputId": "473c228c-e9b3-4d43-be87-9ebff46c6939"
   },
   "outputs": [
    {
     "data": {
      "text/plain": [
       "No hay niñas/os       10392\n",
       "Madre                  8153\n",
       "Otra/o no familiar     7928\n",
       "NS/NC                  5971\n",
       "Sin datos              4888\n",
       "Otro/a no familiar     2701\n",
       "Otro familiar          1653\n",
       "Padre                  1642\n",
       "Otra/o familiar        1495\n",
       "Hermano/a               653\n",
       "Hermana/o               198\n",
       "Padrastro                29\n",
       "Name: llamante_vinculo_ninios_presentes, dtype: int64"
      ]
     },
     "execution_count": 15,
     "metadata": {},
     "output_type": "execute_result"
    }
   ],
   "source": [
    "linea137_df.llamante_vinculo_ninios_presentes.value_counts()\n"
   ]
  },
  {
   "cell_type": "markdown",
   "metadata": {
    "id": "oRioKxMBSu_D"
   },
   "source": [
    "Se entiende con esta variable que se busca saber en primer instancia si hubo niños presentes en el hecho que original la llamada, y si lo hubo, qué relación tienen los niños con la persona que llama.\n",
    "\n",
    "Se observan datos sucios, repetidos en distinto orden. Por lo tanto **homogeneizamos** y **agrupamos** algunas variables los en primer lugar."
   ]
  },
  {
   "cell_type": "code",
   "execution_count": 16,
   "metadata": {
    "id": "SPheLtU_D7Py"
   },
   "outputs": [],
   "source": [
    "linea137_df[\"llamante_vinculo_ninios_presentes\"] = (\n",
    "    linea137_df[\"llamante_vinculo_ninios_presentes\"]\n",
    "    .replace(\"Otra/o familiar\", \"Otro/a familiar\")\n",
    "    .replace(\"Otro familiar\", \"Otro/a familiar\")\n",
    ")\n",
    "\n",
    "linea137_df[\"llamante_vinculo_ninios_presentes\"] = linea137_df[\n",
    "    \"llamante_vinculo_ninios_presentes\"\n",
    "].replace(\"Otra/o no familiar\", \"Otro/a no familiar\")\n",
    "\n",
    "linea137_df[\"llamante_vinculo_ninios_presentes\"] = linea137_df[\n",
    "    \"llamante_vinculo_ninios_presentes\"\n",
    "].replace(\"Hermano/a\", \"Hermana/o\")\n"
   ]
  },
  {
   "cell_type": "markdown",
   "metadata": {
    "id": "HlJ49AycT-MB"
   },
   "source": [
    "Quedando de la siguiente manera los datos un poco más limpios:"
   ]
  },
  {
   "cell_type": "code",
   "execution_count": 17,
   "metadata": {
    "colab": {
     "base_uri": "https://localhost:8080/"
    },
    "id": "al0E4VZWUCYO",
    "outputId": "fe68ae81-24e1-4511-beae-e1d062a1dc63"
   },
   "outputs": [
    {
     "data": {
      "text/plain": [
       "Otro/a no familiar    10629\n",
       "No hay niñas/os       10392\n",
       "Madre                  8153\n",
       "NS/NC                  5971\n",
       "Sin datos              4888\n",
       "Otro/a familiar        3148\n",
       "Padre                  1642\n",
       "Hermana/o               851\n",
       "Padrastro                29\n",
       "Name: llamante_vinculo_ninios_presentes, dtype: int64"
      ]
     },
     "execution_count": 17,
     "metadata": {},
     "output_type": "execute_result"
    }
   ],
   "source": [
    "linea137_df.llamante_vinculo_ninios_presentes.value_counts()\n"
   ]
  },
  {
   "cell_type": "markdown",
   "metadata": {
    "id": "I3hid2cQ2OtF"
   },
   "source": [
    "Creamos un **histograma** para estudiar la distribución del vínculo del llamante con niñas/os presentes."
   ]
  },
  {
   "cell_type": "code",
   "execution_count": 18,
   "metadata": {
    "colab": {
     "base_uri": "https://localhost:8080/",
     "height": 586
    },
    "id": "WHaqTAC229VP",
    "outputId": "d367606f-b452-4ac1-94fd-068fb9d83b64"
   },
   "outputs": [
    {
     "data": {
      "image/png": "[encoded data removed]",
      "text/plain": [
       "<Figure size 720x576 with 1 Axes>"
      ]
     },
     "metadata": {},
     "output_type": "display_data"
    }
   ],
   "source": [
    "fig = plt.figure(figsize=(10, 8))\n",
    "sns.set_theme(style=\"whitegrid\", palette=\"Set2\")\n",
    "sns.countplot(\n",
    "    data=linea137_df,\n",
    "    x=\"llamante_vinculo_ninios_presentes\",\n",
    "    order=linea137_df[\"llamante_vinculo_ninios_presentes\"].value_counts().index,\n",
    ")\n",
    "\n",
    "plt.xlabel(\"Vinculo con niños/as\", size=12)\n",
    "plt.ylabel(\"Frecuencia\", size=12)\n",
    "plt.title(\"Vinculo del llamante con infantes presentes\", size=16)\n",
    "plt.xticks(rotation=45)\n",
    "plt.show()\n"
   ]
  },
  {
   "cell_type": "code",
   "execution_count": 19,
   "metadata": {
    "colab": {
     "base_uri": "https://localhost:8080/"
    },
    "id": "Rmlqur67VM79",
    "outputId": "e3f99c95-d92a-44b2-a4ec-f1f3a90ff9ed"
   },
   "outputs": [
    {
     "name": "stdout",
     "output_type": "stream",
     "text": [
      "De las 45703 llamadas totales:\n",
      " 23.26 % fueron hechas por personas no familiares de niñas/os presentes,\n",
      " 22.74 % fueron hechas sin niños presentes,\n",
      " 17.84 % fueron hechas por la madre de niñas/os presentes.\n"
     ]
    }
   ],
   "source": [
    "llamadas_totales = 45703\n",
    "vinculo_otra = 10629\n",
    "no_hay = 10392\n",
    "vinculo_madre = 8153\n",
    "Porc_vinc_otra = (vinculo_otra / llamadas_totales) * 100\n",
    "Porc_no_hay = (no_hay / llamadas_totales) * 100\n",
    "Porc_vinc_mad = (vinculo_madre / llamadas_totales) * 100\n",
    "print(\n",
    "    \"De las\",\n",
    "    llamadas_totales,\n",
    "    \"llamadas totales:\\n\",\n",
    "    round(Porc_vinc_otra, 2),\n",
    "    \"% fueron hechas por personas no familiares de niñas/os presentes,\\n\",\n",
    "    round(Porc_no_hay, 2),\n",
    "    \"% fueron hechas sin niños presentes,\\n\",\n",
    "    round(Porc_vinc_mad, 2),\n",
    "    \"% fueron hechas por la madre de niñas/os presentes.\",\n",
    ")\n"
   ]
  },
  {
   "cell_type": "markdown",
   "metadata": {
    "id": "2K2jecSUUJgO"
   },
   "source": [
    ">**Observación:**\n",
    ">\n",
    ">- Se puede observar que en 10629 casos hay niñas/os presentes, pero el llamante no es familiar de las/los niñas/os. \n",
    ">- En segundo lugar, en 10392 llamadas directamente no hay niñas/os presentes.\n",
    ">- Y en tercer lugar el llamante es la madre de llas/los niñas/os presentes, en 8153 casos.\n",
    "\n",
    "\n"
   ]
  },
  {
   "cell_type": "markdown",
   "metadata": {
    "id": "J0oNIh0VQzda"
   },
   "source": [
    "<html>\n",
    "  <h1 align=\"center\";>\n",
    "  4. Análisis columna <code>violencia_tipo</code>\n",
    "  </h1>\n",
    "</html>\n",
    "\n",
    "Describe el **tipo de violencia** que se denuncia. Puede tomar los valores:\n",
    "\n",
    "- Económica y psicológica\n",
    "- Económica, física y psicológica\n",
    "- Física y psicológica\n",
    "- Física, sexual y psicológica\n",
    "- No aplica\n",
    "- Psicológica\n",
    "- Sexual y psicológica\n",
    "- Sexual, económica y psicológica\n",
    "\n"
   ]
  },
  {
   "cell_type": "markdown",
   "metadata": {
    "id": "dbMq_6-l0n-i"
   },
   "source": [
    "#### Primero vemos qué valores están tomando cada una de las variables."
   ]
  },
  {
   "cell_type": "code",
   "execution_count": 20,
   "metadata": {
    "colab": {
     "base_uri": "https://localhost:8080/"
    },
    "id": "fc9686d1-a71b-44f7-af2c-9c1a802dee7a",
    "outputId": "15f4553b-706d-4b3c-9a7e-5778cacdcbfe"
   },
   "outputs": [
    {
     "data": {
      "text/plain": [
       "Física y psicológica                       21846\n",
       "Psicológica                                14313\n",
       "No aplica                                   7435\n",
       "Física, sexual y psicológica                 390\n",
       "Económica y psicológica                      389\n",
       "Económica, física y psicológica              381\n",
       "No Aplica                                    254\n",
       "Sexual y psicológica                         250\n",
       "Otras                                        147\n",
       "Física, psicológica y económica              143\n",
       "Económica, Física y psicológica               84\n",
       "No es un caso de Violencia Familiar           30\n",
       "Sexual, económica y psicológica               15\n",
       "Física, sexual, psicológica y económica        6\n",
       "Name: violencia_tipo, dtype: int64"
      ]
     },
     "execution_count": 20,
     "metadata": {},
     "output_type": "execute_result"
    }
   ],
   "source": [
    "linea137_df.violencia_tipo.value_counts()\n"
   ]
  },
  {
   "cell_type": "markdown",
   "metadata": {
    "id": "ZXN61WqM2ZKC"
   },
   "source": [
    "**Unificamos** algunos datos repetidos."
   ]
  },
  {
   "cell_type": "code",
   "execution_count": 21,
   "metadata": {
    "id": "8LuFb_UGLXkn"
   },
   "outputs": [],
   "source": [
    "linea137_df[\"violencia_tipo\"] = (\n",
    "    linea137_df[\"violencia_tipo\"]\n",
    "    .replace(\"No aplica\", \"No Aplica\")\n",
    "    .replace(\"No es un caso de Violencia Familiar\", \"No Aplica\")\n",
    ")\n",
    "\n",
    "linea137_df[\"violencia_tipo\"] = (\n",
    "    linea137_df[\"violencia_tipo\"]\n",
    "    .replace(\"Física, sexual y psicológica\", \"Otras\")\n",
    "    .replace(\"Económica y psicológica\", \"Otras\")\n",
    "    .replace(\"Sexual y psicológica\", \"Otras\")\n",
    "    .replace(\"Sexual, económica y psicológica\", \"Otras\")\n",
    "    .replace(\"Física, sexual, psicológica y económica\", \"Otras\")\n",
    ")\n",
    "\n",
    "linea137_df[\"violencia_tipo\"] = (\n",
    "    linea137_df[\"violencia_tipo\"]\n",
    "    .replace(\"Económica, física y psicológica\", \"Económica, Física y Psicológica\")\n",
    "    .replace(\"Económica, Física y psicológica\", \"Económica, Física y Psicológica\")\n",
    "    .replace(\"Física, psicológica y económica\", \"Económica, Física y Psicológica\")\n",
    ")\n"
   ]
  },
  {
   "cell_type": "markdown",
   "metadata": {
    "id": "xanW8541ZoUZ"
   },
   "source": [
    "Quedando los datos de la siguiente manera:"
   ]
  },
  {
   "cell_type": "code",
   "execution_count": 22,
   "metadata": {
    "colab": {
     "base_uri": "https://localhost:8080/"
    },
    "id": "csZsehI2Znfb",
    "outputId": "cba6b85e-59a6-4dfd-9eb6-5539a5e10a8f"
   },
   "outputs": [
    {
     "data": {
      "text/plain": [
       "Física y psicológica               21846\n",
       "Psicológica                        14313\n",
       "No Aplica                           7719\n",
       "Otras                               1197\n",
       "Económica, Física y Psicológica      608\n",
       "Name: violencia_tipo, dtype: int64"
      ]
     },
     "execution_count": 22,
     "metadata": {},
     "output_type": "execute_result"
    }
   ],
   "source": [
    "linea137_df[\"violencia_tipo\"].value_counts()\n"
   ]
  },
  {
   "cell_type": "markdown",
   "metadata": {
    "id": "5SLNlMEPL6K3"
   },
   "source": [
    "Creamos un **histograma** para estudiar la distribución del **tipo de violencia** que se denuncia."
   ]
  },
  {
   "cell_type": "code",
   "execution_count": 23,
   "metadata": {
    "colab": {
     "base_uri": "https://localhost:8080/",
     "height": 640
    },
    "id": "xl1AQ_j3LkaZ",
    "outputId": "f7944bbb-f299-40bb-e2f3-6b008b015ff2"
   },
   "outputs": [
    {
     "data": {
      "image/png": "[encoded data removed]",
      "text/plain": [
       "<Figure size 720x576 with 1 Axes>"
      ]
     },
     "metadata": {},
     "output_type": "display_data"
    }
   ],
   "source": [
    "fig = plt.figure(figsize=(10, 8))\n",
    "sns.set_theme(style=\"whitegrid\", palette=\"Set2\")\n",
    "sns.countplot(data=linea137_df, x=\"violencia_tipo\")\n",
    "\n",
    "plt.xlabel(\"Tipo de Denuncia\", size=12)\n",
    "plt.ylabel(\"Frecuencia\", size=12)\n",
    "plt.title(\"Tipo de Violencia que se Denuncia\", size=16)\n",
    "plt.xticks(rotation=45)\n",
    "plt.show()\n"
   ]
  },
  {
   "cell_type": "code",
   "execution_count": 24,
   "metadata": {
    "colab": {
     "base_uri": "https://localhost:8080/"
    },
    "id": "xbdkkm7rah7H",
    "outputId": "d265e3e9-f78e-41c2-abd5-003f613201f7"
   },
   "outputs": [
    {
     "name": "stdout",
     "output_type": "stream",
     "text": [
      "De las 45703 llamadas totales:\n",
      " 47.8 % indicaron violencia física y psicológica del agresor,\n",
      " 31.32 % indicaron solamente violencia psicológica del agresor,\n",
      " 16.89 % no indican ningún tipo de violencia.\n"
     ]
    }
   ],
   "source": [
    "llamadas_totales = 45703\n",
    "fis_psic = 21846\n",
    "psic = 14313\n",
    "no_aplica = 7719\n",
    "Porc_fis_psic = (fis_psic / llamadas_totales) * 100\n",
    "Porc_psic = (psic / llamadas_totales) * 100\n",
    "Porc_no_aplica = (no_aplica / llamadas_totales) * 100\n",
    "print(\n",
    "    \"De las\",\n",
    "    llamadas_totales,\n",
    "    \"llamadas totales:\\n\",\n",
    "    round(Porc_fis_psic, 2),\n",
    "    \"% indicaron violencia física y psicológica del agresor,\\n\",\n",
    "    round(Porc_psic, 2),\n",
    "    \"% indicaron solamente violencia psicológica del agresor,\\n\",\n",
    "    round(Porc_no_aplica, 2),\n",
    "    \"% no indican ningún tipo de violencia.\",\n",
    ")\n"
   ]
  },
  {
   "cell_type": "markdown",
   "metadata": {
    "id": "wHO_5xJDZ0fR"
   },
   "source": [
    ">**Observación:**\n",
    ">\n",
    ">- Se puede observar una clara predominancia de denuncias por violencia de tipo física y psicológica, con 21846 llamadas.\n",
    ">- En segundo lugar están las denuncias de violencia de tipo psicológica  solamente, con 14313 llamadas.\n",
    ">- Y en tercer lugar se observa una importante cantidad de casos en el cual no hay violencia."
   ]
  },
  {
   "cell_type": "markdown",
   "metadata": {
    "id": "8Y35DdeEREuV"
   },
   "source": [
    "<html>\n",
    "  <h1 align=\"center\";>\n",
    "  5. Análisis columna <code>victima_genero</code>\n",
    "  </h1>\n",
    "</html>\n",
    "\n",
    "Describe el género de la víctima involucrada en el caso denunciado."
   ]
  },
  {
   "cell_type": "markdown",
   "metadata": {
    "id": "8Khk33qK0rVf"
   },
   "source": [
    "#### Primero vemos qué valores están tomando cada una de las variables."
   ]
  },
  {
   "cell_type": "code",
   "execution_count": 25,
   "metadata": {
    "colab": {
     "base_uri": "https://localhost:8080/"
    },
    "id": "-f2GjSzamYr-",
    "outputId": "cc95b1b0-e10e-47c7-de0a-8fcd89ef0256"
   },
   "outputs": [
    {
     "data": {
      "text/plain": [
       "Femenino       30426\n",
       "NS/NC          10326\n",
       "Masculino       4895\n",
       "Transgénero       56\n",
       "Name: victima_genero, dtype: int64"
      ]
     },
     "execution_count": 25,
     "metadata": {},
     "output_type": "execute_result"
    }
   ],
   "source": [
    "linea137_df.victima_genero.value_counts()\n"
   ]
  },
  {
   "cell_type": "markdown",
   "metadata": {
    "id": "vo7cJLHs1Lor"
   },
   "source": [
    "Creamos un **histograma** para estudiar la distribución de género de la víctima"
   ]
  },
  {
   "cell_type": "code",
   "execution_count": 26,
   "metadata": {
    "colab": {
     "base_uri": "https://localhost:8080/",
     "height": 521
    },
    "id": "NvBlsGRWAjA2",
    "outputId": "2dc27aa6-13da-41f0-df2e-f5b2eb85866b"
   },
   "outputs": [
    {
     "data": {
      "image/png": "[encoded data removed]",
      "text/plain": [
       "<Figure size 720x576 with 1 Axes>"
      ]
     },
     "metadata": {},
     "output_type": "display_data"
    }
   ],
   "source": [
    "fig = plt.figure(figsize=(10, 8))\n",
    "sns.set_theme(style=\"whitegrid\", palette=\"Set2\")\n",
    "sns.countplot(\n",
    "    data=linea137_df,\n",
    "    x=\"victima_genero\",\n",
    "    order=linea137_df[\"victima_genero\"].value_counts().index,\n",
    ")\n",
    "\n",
    "plt.xlabel(\"Género víctima\", size=12)\n",
    "plt.ylabel(\"Frecuencia\", size=12)\n",
    "plt.title(\"Distribución Género Víctima\", size=16)\n",
    "plt.show()\n"
   ]
  },
  {
   "cell_type": "code",
   "execution_count": 27,
   "metadata": {
    "colab": {
     "base_uri": "https://localhost:8080/"
    },
    "id": "IHgxKn-lcscl",
    "outputId": "e60610a9-1813-43f5-940d-35f108ffbcbe"
   },
   "outputs": [
    {
     "name": "stdout",
     "output_type": "stream",
     "text": [
      "De las 45703 llamadas totales:\n",
      " 66.57 % indicaron que la víctima es de género femenino,\n",
      " 22.59 % no indica género de víctima,\n",
      " 10.71 % indicaron que la víctima es de género masculino.\n"
     ]
    }
   ],
   "source": [
    "llamadas_totales = 45703\n",
    "vict_fem = 30426\n",
    "ns_nc = 10326\n",
    "vict_masc = 4895\n",
    "Porc_vict_fem = (vict_fem / llamadas_totales) * 100\n",
    "Porc_ns_nc = (ns_nc / llamadas_totales) * 100\n",
    "Porc_vict_masc = (vict_masc / llamadas_totales) * 100\n",
    "print(\n",
    "    \"De las\",\n",
    "    llamadas_totales,\n",
    "    \"llamadas totales:\\n\",\n",
    "    round(Porc_vict_fem, 2),\n",
    "    \"% indicaron que la víctima es de género femenino,\\n\",\n",
    "    round(Porc_ns_nc, 2),\n",
    "    \"% no indica género de víctima,\\n\",\n",
    "    round(Porc_vict_masc, 2),\n",
    "    \"% indicaron que la víctima es de género masculino.\",\n",
    ")\n"
   ]
  },
  {
   "cell_type": "markdown",
   "metadata": {
    "id": "UX0XgwAMb_Vg"
   },
   "source": [
    ">**Observación:**\n",
    ">\n",
    ">- Se puede ver en esta distribución que en la gran mayoría de las llamadas, la víctima es de género femenino. \n",
    ">- En segundo lugar hay muchas llamadas que indican género desconocido.\n",
    ">- En tercer lugar una porción mucho menor de víctimas masculinas."
   ]
  },
  {
   "cell_type": "markdown",
   "metadata": {
    "id": "nXF-4hynRFV5"
   },
   "source": [
    "<html>\n",
    "  <h1 align=\"center\";>\n",
    "  6. Análisis columna <code>agresor_genero</code>\n",
    "  </h1>\n",
    "</html>\n",
    "\n",
    "Describe el género del agresor. Puede tomar los valores:\n",
    "\n",
    "-  Masculino\n",
    "-  Femenino\n",
    "-  Trans\n",
    "-  NS/NC: No sabe / No contesta\n"
   ]
  },
  {
   "cell_type": "code",
   "execution_count": 28,
   "metadata": {
    "colab": {
     "base_uri": "https://localhost:8080/"
    },
    "id": "GL8Lcvi_mZHC",
    "outputId": "0f7ad0d1-f112-4de1-d645-afe3f5ca13c4"
   },
   "outputs": [
    {
     "data": {
      "text/plain": [
       "Masculino      28001\n",
       "NS/NC          10789\n",
       "Femenino        6899\n",
       "Transgénero       14\n",
       "Name: agresor_genero, dtype: int64"
      ]
     },
     "execution_count": 28,
     "metadata": {},
     "output_type": "execute_result"
    }
   ],
   "source": [
    "linea137_df.agresor_genero.value_counts()\n"
   ]
  },
  {
   "cell_type": "markdown",
   "metadata": {
    "id": "EcgF6yzD2kac"
   },
   "source": [
    "Creamos un **histograma** para estudiar la distribución de género del agresor."
   ]
  },
  {
   "cell_type": "code",
   "execution_count": 29,
   "metadata": {
    "colab": {
     "base_uri": "https://localhost:8080/",
     "height": 522
    },
    "id": "IRfl80fX2iXF",
    "outputId": "6f13b64f-9e89-46e7-ca95-7a3734ea943b"
   },
   "outputs": [
    {
     "data": {
      "image/png": "[encoded data removed]",
      "text/plain": [
       "<Figure size 720x576 with 1 Axes>"
      ]
     },
     "metadata": {},
     "output_type": "display_data"
    }
   ],
   "source": [
    "fig = plt.figure(figsize=(10, 8))\n",
    "sns.set_theme(style=\"whitegrid\", palette=\"Set2\")\n",
    "sns.countplot(\n",
    "    data=linea137_df,\n",
    "    x=\"agresor_genero\",\n",
    "    order=linea137_df[\"agresor_genero\"].value_counts().index,\n",
    ")\n",
    "\n",
    "plt.xlabel(\"Género del Agresor\", size=12)\n",
    "plt.ylabel(\"Frecuencia\", size=12)\n",
    "plt.title(\"Distribución del Género del Agresor\", size=16)\n",
    "plt.show()\n"
   ]
  },
  {
   "cell_type": "code",
   "execution_count": 30,
   "metadata": {
    "colab": {
     "base_uri": "https://localhost:8080/"
    },
    "id": "aGXOMbDeeBxj",
    "outputId": "bfd12412-ed62-4b09-b8ee-34e83e379ff7"
   },
   "outputs": [
    {
     "name": "stdout",
     "output_type": "stream",
     "text": [
      "De las 45703 llamadas totales:\n",
      " 61.27 % indicaron que el agresor es de género masculino,\n",
      " 23.61 % no indica género de víctima,\n",
      " 15.1 % indicaron que el agresor es de género femenino.\n"
     ]
    }
   ],
   "source": [
    "llamadas_totales = 45703\n",
    "agr_masc = 28001\n",
    "ns_nc = 10789\n",
    "agr_fem = 6899\n",
    "Porc_agr_masc = (agr_masc / llamadas_totales) * 100\n",
    "Porc_ns_nc = (ns_nc / llamadas_totales) * 100\n",
    "Porc_agr_fem = (agr_fem / llamadas_totales) * 100\n",
    "print(\n",
    "    \"De las\",\n",
    "    llamadas_totales,\n",
    "    \"llamadas totales:\\n\",\n",
    "    round(Porc_agr_masc, 2),\n",
    "    \"% indicaron que el agresor es de género masculino,\\n\",\n",
    "    round(Porc_ns_nc, 2),\n",
    "    \"% no indica género de víctima,\\n\",\n",
    "    round(Porc_agr_fem, 2),\n",
    "    \"% indicaron que el agresor es de género femenino.\",\n",
    ")\n"
   ]
  },
  {
   "cell_type": "markdown",
   "metadata": {
    "id": "Sk3vR5jJdoer"
   },
   "source": [
    ">**Observación:**\n",
    ">\n",
    ">- Observamos en esta distribución que en la gran mayoría de las llamadas, el agresor es de género masculino. \n",
    ">- En segundo lugar hay muchas llamadas que indican género desconocido.\n",
    ">- En tercer lugar una porción mucho menor de agresores de género femenino. Una situación casi opuesta a la del género de la víctima."
   ]
  },
  {
   "cell_type": "markdown",
   "metadata": {
    "id": "ydpKN8lCRGF8"
   },
   "source": [
    "<html>\n",
    "  <h1 align=\"center\";>\n",
    "  7. Análisis columna <code>agresor_relacion_victima</code>        \n",
    "  </h1>\n",
    "</html>\n",
    "\n",
    "Describe el vínculo que existe entre el agresor y la víctima involucrada en el caso, es decir indica la relación del **agresor** para con su víctima.\n"
   ]
  },
  {
   "cell_type": "markdown",
   "metadata": {
    "id": "idyrxxQU0auJ"
   },
   "source": [
    "#### Primero vemos qué valores están tomando cada una de las variables."
   ]
  },
  {
   "cell_type": "code",
   "execution_count": 31,
   "metadata": {
    "colab": {
     "base_uri": "https://localhost:8080/"
    },
    "id": "4jnxz3_GmZ_L",
    "outputId": "2a3bd9a9-e4f4-4cba-bd63-99d9e1a785d5"
   },
   "outputs": [
    {
     "data": {
      "text/plain": [
       "Pareja                   11958\n",
       "NS/NC                    10587\n",
       "Ex pareja                 8932\n",
       "Madre                     3875\n",
       "Padre                     3272\n",
       "Hijo/a                    2819\n",
       "Hermano/a                 1526\n",
       "Otro/a no conviviente     1139\n",
       "Otro/a conviviente         783\n",
       "Padrastro                  599\n",
       "Abuelo/a                   174\n",
       "Hermana/o                   26\n",
       "Madrastra                   13\n",
       "Name: agresor_relacion_victima, dtype: int64"
      ]
     },
     "execution_count": 31,
     "metadata": {},
     "output_type": "execute_result"
    }
   ],
   "source": [
    "linea137_df.agresor_relacion_victima.value_counts()\n"
   ]
  },
  {
   "cell_type": "markdown",
   "metadata": {
    "id": "0a9Uta9z2m4d"
   },
   "source": [
    "**Unificamos** algunos datos repetidos"
   ]
  },
  {
   "cell_type": "code",
   "execution_count": 32,
   "metadata": {
    "colab": {
     "base_uri": "https://localhost:8080/"
    },
    "id": "INFYD7gSBPqb",
    "outputId": "8a989496-8fab-4e74-baa6-6ff0bbbfd46f"
   },
   "outputs": [
    {
     "data": {
      "text/plain": [
       "Pareja                   11958\n",
       "NS/NC                    10587\n",
       "Ex pareja                 8932\n",
       "Madre                     3875\n",
       "Padre                     3272\n",
       "Hijo/a                    2819\n",
       "Hermano/a                 1552\n",
       "Otro/a no conviviente     1139\n",
       "Otro/a conviviente         783\n",
       "Padrastro                  599\n",
       "Abuelo/a                   174\n",
       "Madrastra                   13\n",
       "Name: agresor_relacion_victima, dtype: int64"
      ]
     },
     "execution_count": 32,
     "metadata": {},
     "output_type": "execute_result"
    }
   ],
   "source": [
    "linea137_df[\"agresor_relacion_victima\"] = linea137_df[\n",
    "    \"agresor_relacion_victima\"\n",
    "].replace(\"Hermana/o\", \"Hermano/a\")\n",
    "\n",
    "linea137_df.agresor_relacion_victima.value_counts()\n"
   ]
  },
  {
   "cell_type": "markdown",
   "metadata": {
    "id": "r58YDFEwBul0"
   },
   "source": [
    "Creamos un **histograma** para estudiar la distribución de la Relación con Agresor y la Víctima."
   ]
  },
  {
   "cell_type": "code",
   "execution_count": 33,
   "metadata": {
    "colab": {
     "base_uri": "https://localhost:8080/",
     "height": 631
    },
    "id": "PM5PeS9qNmya",
    "outputId": "452e0ac0-419d-4897-a90e-680e50245baa"
   },
   "outputs": [
    {
     "data": {
      "image/png": "[encoded data removed]",
      "text/plain": [
       "<Figure size 720x576 with 1 Axes>"
      ]
     },
     "metadata": {},
     "output_type": "display_data"
    }
   ],
   "source": [
    "fig = plt.figure(figsize=(10, 8))\n",
    "sns.set_theme(style=\"whitegrid\", palette=\"Set2\")\n",
    "sns.countplot(\n",
    "    data=linea137_df,\n",
    "    x=\"agresor_relacion_victima\",\n",
    "    order=linea137_df[\"agresor_relacion_victima\"].value_counts().index,\n",
    ")\n",
    "\n",
    "plt.xlabel(\"Relación con la victima\", size=12)\n",
    "plt.ylabel(\"Frecuencia\", size=12)\n",
    "plt.title(\"Distribución Relación entre el Agresor y la Víctima \", size=16)\n",
    "plt.xticks(rotation=90)\n",
    "plt.show()\n"
   ]
  },
  {
   "cell_type": "code",
   "execution_count": 34,
   "metadata": {
    "colab": {
     "base_uri": "https://localhost:8080/"
    },
    "id": "mWaIaWv8gbYw",
    "outputId": "328e0fac-7020-4fba-c538-ce24f0f8b5d7"
   },
   "outputs": [
    {
     "name": "stdout",
     "output_type": "stream",
     "text": [
      "De las 45703 llamadas totales:\n",
      " 26.16 % indicaron que el agresor es pareja de la víctima,\n",
      " 23.61 % no indica relación del agresor con la víctima,\n",
      " 19.54 % indicaron que el agresor es ex-pareja de la víctima.\n"
     ]
    }
   ],
   "source": [
    "llamadas_totales = 45703\n",
    "pareja = 11958\n",
    "ns_nc = 10789\n",
    "expareja = 8932\n",
    "Porc_pareja = (pareja / llamadas_totales) * 100\n",
    "Porc_ns_nc = (ns_nc / llamadas_totales) * 100\n",
    "Porc_expareja = (expareja / llamadas_totales) * 100\n",
    "print(\n",
    "    \"De las\",\n",
    "    llamadas_totales,\n",
    "    \"llamadas totales:\\n\",\n",
    "    round(Porc_pareja, 2),\n",
    "    \"% indicaron que el agresor es pareja de la víctima,\\n\",\n",
    "    round(Porc_ns_nc, 2),\n",
    "    \"% no indica relación del agresor con la víctima,\\n\",\n",
    "    round(Porc_expareja, 2),\n",
    "    \"% indicaron que el agresor es ex-pareja de la víctima.\",\n",
    ")\n"
   ]
  },
  {
   "cell_type": "markdown",
   "metadata": {
    "id": "dLg2M9jOfHQc"
   },
   "source": [
    ">**Observación:**\n",
    ">\n",
    ">- Se puede ver de esta manera que la gran mayoría de los agresores son o pareja actual - 11958 - o ex-parejas - 8932\n",
    ">- Otra gran porción se la lleva el dato NS/NC."
   ]
  },
  {
   "cell_type": "markdown",
   "metadata": {
    "id": "eb63uN4-Bu-p"
   },
   "source": [
    "<html>\n",
    "  <h1 align=\"center\";>\n",
    "  8. Análisis columna <code>llamado_derivacion</code>\n",
    "  </h1>\n",
    "</html>\n",
    "\n",
    "Acciones que se llevaron a cabo en el centro de llamados de la Línea 137."
   ]
  },
  {
   "cell_type": "markdown",
   "metadata": {
    "id": "aoYqgV6oxL4_"
   },
   "source": [
    "#### Primero vemos qué valores están tomando cada una de las variables."
   ]
  },
  {
   "cell_type": "code",
   "execution_count": 35,
   "metadata": {
    "colab": {
     "base_uri": "https://localhost:8080/"
    },
    "id": "oplWW9MAxM7l",
    "outputId": "3c640743-1fde-46b4-fe84-3ca73d1a72e1"
   },
   "outputs": [
    {
     "data": {
      "text/plain": [
       "Llamante solicitó información y/o orientación                             22284\n",
       "La víctima no aceptó la intervención del Equipo Móvil                      5185\n",
       "No se desplazó un Equipo móvil por tratarse de un caso fuera de CABA       4495\n",
       "Se trata de un conflicto familiar                                          3735\n",
       "Comunicación con Equipos Móviles                                           2953\n",
       "No había móviles y/o Equipos para realizar la intervención                 2248\n",
       "Desplazamiento de un Equipo Móvil a donde se encontraba la/s víctima/s     2121\n",
       "Se planificó intervención para otro momento                                 926\n",
       "Comunicación con los Equipos Móviles                                        915\n",
       "Está interviniendo o se deriva a otra institución                           779\n",
       "Otras                                                                        62\n",
       "Name: llamado_derivacion, dtype: int64"
      ]
     },
     "execution_count": 35,
     "metadata": {},
     "output_type": "execute_result"
    }
   ],
   "source": [
    "linea137_df.llamado_derivacion.value_counts()\n"
   ]
  },
  {
   "cell_type": "markdown",
   "metadata": {
    "id": "XdeLx1mX4mJl"
   },
   "source": [
    "**Unificación** de los datos repetidos"
   ]
  },
  {
   "cell_type": "code",
   "execution_count": 36,
   "metadata": {
    "colab": {
     "base_uri": "https://localhost:8080/"
    },
    "id": "Ep7iHol64lGY",
    "outputId": "ae4e9da9-351f-4368-cb7f-b48c658ba7ca"
   },
   "outputs": [
    {
     "data": {
      "text/plain": [
       "Llamante solicitó información y/o orientación                             22284\n",
       "La víctima no aceptó la intervención del Equipo Móvil                      5185\n",
       "No se desplazó un Equipo móvil por tratarse de un caso fuera de CABA       4495\n",
       "Comunicación con los Equipos Móviles                                       3868\n",
       "Se trata de un conflicto familiar                                          3735\n",
       "No había móviles y/o Equipos para realizar la intervención                 2248\n",
       "Desplazamiento de un Equipo Móvil a donde se encontraba la/s víctima/s     2121\n",
       "Se planificó intervención para otro momento                                 926\n",
       "Está interviniendo o se deriva a otra institución                           779\n",
       "Otras                                                                        62\n",
       "Name: llamado_derivacion, dtype: int64"
      ]
     },
     "execution_count": 36,
     "metadata": {},
     "output_type": "execute_result"
    }
   ],
   "source": [
    "linea137_df[\"llamado_derivacion\"] = linea137_df[\"llamado_derivacion\"].replace(\n",
    "    \"Comunicación con Equipos Móviles\", \"Comunicación con los Equipos Móviles\"\n",
    ")\n",
    "\n",
    "linea137_df.llamado_derivacion.value_counts()\n"
   ]
  },
  {
   "cell_type": "markdown",
   "metadata": {
    "id": "4iiCCbqO0NAL"
   },
   "source": [
    "Creamos un **histograma** para estudiar las Acciones realizadas en el centro de llamados a la Línea 137"
   ]
  },
  {
   "cell_type": "code",
   "execution_count": 37,
   "metadata": {
    "colab": {
     "base_uri": "https://localhost:8080/",
     "height": 916
    },
    "id": "6XzggulRP24M",
    "outputId": "a26082e5-b280-44f4-8eec-22accf26c939"
   },
   "outputs": [
    {
     "data": {
      "image/png": "[encoded data removed]",
      "text/plain": [
       "<Figure size 1440x576 with 1 Axes>"
      ]
     },
     "metadata": {},
     "output_type": "display_data"
    }
   ],
   "source": [
    "fig = plt.figure(figsize=(20, 8))\n",
    "sns.set_theme(style=\"whitegrid\", palette=\"Set2\")\n",
    "sns.countplot(\n",
    "    data=linea137_df,\n",
    "    x=\"llamado_derivacion\",\n",
    "    order=linea137_df[\"llamado_derivacion\"].value_counts().index,\n",
    ")\n",
    "\n",
    "plt.xlabel(\"Acción realizadas\", size=12)\n",
    "plt.ylabel(\"Frecuencia\", size=12)\n",
    "plt.title(\"Acciones realizadas en el centro de llamados a la Línea 137\", size=16)\n",
    "plt.xticks(rotation=90)\n",
    "plt.show()\n"
   ]
  },
  {
   "cell_type": "code",
   "execution_count": 38,
   "metadata": {
    "colab": {
     "base_uri": "https://localhost:8080/"
    },
    "id": "vTdjwUjGhgXT",
    "outputId": "2fd740f0-7807-4f62-df2c-85fb1d45157e"
   },
   "outputs": [
    {
     "name": "stdout",
     "output_type": "stream",
     "text": [
      "\n",
      "De las 45703 llamadas totales, 48.76 % fueron sólo para pedir información u orientación, sin generar ninguna acción por parte del personal del 137 o policial.\n",
      "Por otro lado, 5185 llamantes, es decir 11.34 %, no aceptan la intervención, aunque se haya considerado necesaria.\n"
     ]
    }
   ],
   "source": [
    "llamadas_totales = 45703\n",
    "solo_info = 22284\n",
    "no_acepta = 5185\n",
    "Porc_solo_info = (solo_info / llamadas_totales) * 100\n",
    "Porc_no_acepta = (no_acepta / llamadas_totales) * 100\n",
    "print()\n",
    "print(\n",
    "    \"De las\",\n",
    "    llamadas_totales,\n",
    "    \"llamadas totales,\",\n",
    "    round(Porc_solo_info, 2),\n",
    "    \"% fueron sólo para pedir información u orientación, sin generar ninguna acción por parte del personal del 137 o policial.\",\n",
    ")\n",
    "print(\n",
    "    \"Por otro lado,\",\n",
    "    no_acepta,\n",
    "    \"llamantes, es decir\",\n",
    "    round(Porc_no_acepta, 2),\n",
    "    \"%, no aceptan la intervención, aunque se haya considerado necesaria.\",\n",
    ")\n"
   ]
  },
  {
   "cell_type": "markdown",
   "metadata": {
    "id": "sx8_dYm5hSkB"
   },
   "source": [
    ">**Observación:**\n",
    ">\n",
    ">- En la gran maryoría de los casos no se genera ninguna acción concreta luego de la llamada, sino el llamante sólo pide información y/o orientación respecto a alguna determinada situación.\n",
    ">- Luego hay varios casos en los que se solicita algún tipo de intervención, o en los que se sugiere intervención pero víctima no lo acepta (5185).\n"
   ]
  },
  {
   "cell_type": "markdown",
   "metadata": {
    "id": "nLxYH9FpRez0"
   },
   "source": [
    "<html>\n",
    "<hr>\n",
    "  <h1 align=\"center\";>\n",
    "  Variable Aleatoria Numéricas\n",
    "  </h1>\n",
    "<hr>\n",
    "</html>"
   ]
  },
  {
   "cell_type": "markdown",
   "metadata": {
    "id": "AeYYbfkyRGyh"
   },
   "source": [
    "<html>\n",
    "  <h1 align=\"center\";>\n",
    "  Análisis columna <code>victima_cantidad</code>  (9)   \n",
    "  </h1>\n",
    "</html>"
   ]
  },
  {
   "cell_type": "markdown",
   "metadata": {
    "id": "mZrLvC_g0zAV"
   },
   "source": [
    "#### Primero vemos qué valores están tomando cada una de las variables."
   ]
  },
  {
   "cell_type": "code",
   "execution_count": 39,
   "metadata": {
    "colab": {
     "base_uri": "https://localhost:8080/"
    },
    "id": "xV-uFp9-P_Ed",
    "outputId": "898accc9-58d8-4501-9ad9-af2a84ee26da"
   },
   "outputs": [
    {
     "data": {
      "text/plain": [
       "count    45703.00\n",
       "mean         1.37\n",
       "std          1.19\n",
       "min          0.00\n",
       "25%          1.00\n",
       "50%          1.00\n",
       "75%          2.00\n",
       "max         13.00\n",
       "Name: victima_cantidad, dtype: float64"
      ]
     },
     "execution_count": 39,
     "metadata": {},
     "output_type": "execute_result"
    }
   ],
   "source": [
    "linea137_df[\"victima_cantidad\"].describe().round(2)\n"
   ]
  },
  {
   "cell_type": "code",
   "execution_count": 40,
   "metadata": {
    "colab": {
     "base_uri": "https://localhost:8080/"
    },
    "id": "0w7Vn8aAQg-L",
    "outputId": "37be65ff-37c2-4ff3-808e-3f152a2f7d3e"
   },
   "outputs": [
    {
     "data": {
      "text/plain": [
       "1     23556\n",
       "0      8161\n",
       "2      7192\n",
       "3      4091\n",
       "4      1689\n",
       "5       605\n",
       "6       242\n",
       "7        91\n",
       "8        41\n",
       "9        14\n",
       "10       13\n",
       "11        4\n",
       "13        2\n",
       "12        2\n",
       "Name: victima_cantidad, dtype: int64"
      ]
     },
     "execution_count": 40,
     "metadata": {},
     "output_type": "execute_result"
    }
   ],
   "source": [
    "linea137_df[\"victima_cantidad\"].value_counts()\n"
   ]
  },
  {
   "cell_type": "markdown",
   "metadata": {
    "id": "dZhm2H-JXceU"
   },
   "source": [
    "La **Media**:"
   ]
  },
  {
   "cell_type": "code",
   "execution_count": 41,
   "metadata": {
    "colab": {
     "base_uri": "https://localhost:8080/"
    },
    "id": "27TVwyOERuGe",
    "outputId": "44463331-bfa1-4241-d640-cc72739c171c"
   },
   "outputs": [
    {
     "data": {
      "text/plain": [
       "1.3732358926109884"
      ]
     },
     "execution_count": 41,
     "metadata": {},
     "output_type": "execute_result"
    }
   ],
   "source": [
    "linea137_df[\"victima_cantidad\"].mean()\n"
   ]
  },
  {
   "cell_type": "markdown",
   "metadata": {
    "id": "qq3lUDILXg-f"
   },
   "source": [
    "La **Mediana**:\n",
    "\n",
    "\n"
   ]
  },
  {
   "cell_type": "code",
   "execution_count": 42,
   "metadata": {
    "colab": {
     "base_uri": "https://localhost:8080/"
    },
    "id": "LdkxowI8m7fW",
    "outputId": "a607bb20-2dbe-4ad4-ce08-c07e4645948c"
   },
   "outputs": [
    {
     "data": {
      "text/plain": [
       "1.0"
      ]
     },
     "execution_count": 42,
     "metadata": {},
     "output_type": "execute_result"
    }
   ],
   "source": [
    "linea137_df[\"victima_cantidad\"].median()\n"
   ]
  },
  {
   "cell_type": "markdown",
   "metadata": {
    "id": "Vx5Y5RD1m8AL"
   },
   "source": [
    "Graficamos el **histograma** de frecuencia con media y mediana indicada."
   ]
  },
  {
   "cell_type": "code",
   "execution_count": 43,
   "metadata": {
    "colab": {
     "base_uri": "https://localhost:8080/",
     "height": 504
    },
    "id": "YJlR8AuhauBf",
    "outputId": "5c0adf5d-9ba3-470b-8ab9-118a7bb3f0b4"
   },
   "outputs": [
    {
     "data": {
      "image/png": "[encoded data removed]",
      "text/plain": [
       "<Figure size 720x576 with 1 Axes>"
      ]
     },
     "metadata": {},
     "output_type": "display_data"
    }
   ],
   "source": [
    "fig = plt.figure(figsize=(10, 8))\n",
    "\n",
    "\n",
    "sns.countplot(data=linea137_df, x=\"victima_cantidad\", palette=\"Set2\")\n",
    "\n",
    "\n",
    "# Agregamos la lineas de la media\n",
    "plt.axvline(\n",
    "    x=linea137_df.victima_cantidad.mean(), linestyle=\"--\", color=\"purple\", label=\"Media\"\n",
    ")\n",
    "\n",
    "# Agregamos la lineas de la mediana\n",
    "plt.axvline(\n",
    "    x=linea137_df.victima_cantidad.median(),\n",
    "    linestyle=\"-.\",\n",
    "    color=\"magenta\",\n",
    "    label=\"Mediana\",\n",
    ")\n",
    "\n",
    "plt.legend(prop={\"size\": \"medium\"})\n",
    "plt.xlabel(\"Cantidad de Víctimas\", size=16)\n",
    "plt.ylabel(\"Frecuencia\", size=16)\n",
    "plt.ticklabel_format(axis=\"y\", style=\"plain\", scilimits=(-3, 3), useOffset=False)\n",
    "plt.show()\n"
   ]
  },
  {
   "cell_type": "markdown",
   "metadata": {
    "id": "W2R9BOYLv2UD"
   },
   "source": [
    ">**Observación:**\n",
    ">\n",
    ">- En la gran mayoría de los casos, la víctima es una sola."
   ]
  },
  {
   "cell_type": "markdown",
   "metadata": {
    "id": "7koS3c8l0_PQ"
   },
   "source": [
    "<html>\n",
    "  <h1 align=\"center\";>\n",
    "  Análisis columna <code>agresor_cantidad</code> (10)     \n",
    "  </h1>\n",
    "</html>\n",
    "\n",
    "Describe el número de agresores involucrados en el caso"
   ]
  },
  {
   "cell_type": "markdown",
   "metadata": {
    "id": "hvLGez4L0_PS"
   },
   "source": [
    "#### Primero vemos qué valores están tomando cada una de las variables."
   ]
  },
  {
   "cell_type": "code",
   "execution_count": 44,
   "metadata": {
    "colab": {
     "base_uri": "https://localhost:8080/"
    },
    "id": "FieWz2nqt0NF",
    "outputId": "5071b6b1-c5a2-4fb8-f37e-286d02d8961a"
   },
   "outputs": [
    {
     "data": {
      "text/plain": [
       "count    45703.00\n",
       "mean         0.88\n",
       "std          0.56\n",
       "min          0.00\n",
       "25%          1.00\n",
       "50%          1.00\n",
       "75%          1.00\n",
       "max         51.00\n",
       "Name: agresor_cantidad, dtype: float64"
      ]
     },
     "execution_count": 44,
     "metadata": {},
     "output_type": "execute_result"
    }
   ],
   "source": [
    "linea137_df[\"agresor_cantidad\"].describe().round(2)\n"
   ]
  },
  {
   "cell_type": "code",
   "execution_count": 45,
   "metadata": {
    "colab": {
     "base_uri": "https://localhost:8080/"
    },
    "id": "5bYxK6dwt7Dn",
    "outputId": "80ced70c-0f67-43ae-a995-ab424dfb5b32"
   },
   "outputs": [
    {
     "data": {
      "text/plain": [
       "1     34839\n",
       "0      8302\n",
       "2      2260\n",
       "3       226\n",
       "4        58\n",
       "5        15\n",
       "51        1\n",
       "7         1\n",
       "6         1\n",
       "Name: agresor_cantidad, dtype: int64"
      ]
     },
     "execution_count": 45,
     "metadata": {},
     "output_type": "execute_result"
    }
   ],
   "source": [
    "linea137_df[\"agresor_cantidad\"].value_counts()\n"
   ]
  },
  {
   "cell_type": "markdown",
   "metadata": {
    "id": "wjZpgitFuE7L"
   },
   "source": [
    "La **Media**:"
   ]
  },
  {
   "cell_type": "code",
   "execution_count": 46,
   "metadata": {
    "colab": {
     "base_uri": "https://localhost:8080/"
    },
    "id": "gYSu6csduGBX",
    "outputId": "150ac837-8e8e-4e43-f751-480201d5d2f1"
   },
   "outputs": [
    {
     "data": {
      "text/plain": [
       "0.8841432728704899"
      ]
     },
     "execution_count": 46,
     "metadata": {},
     "output_type": "execute_result"
    }
   ],
   "source": [
    "linea137_df[\"agresor_cantidad\"].mean()\n"
   ]
  },
  {
   "cell_type": "markdown",
   "metadata": {
    "id": "H8xd1XBIuHog"
   },
   "source": [
    "La **Mediana**:"
   ]
  },
  {
   "cell_type": "code",
   "execution_count": 47,
   "metadata": {
    "colab": {
     "base_uri": "https://localhost:8080/"
    },
    "id": "lWfgslGQuV0i",
    "outputId": "dc53c65d-d852-4b13-92e2-d08ce166fe3e"
   },
   "outputs": [
    {
     "data": {
      "text/plain": [
       "1.0"
      ]
     },
     "execution_count": 47,
     "metadata": {},
     "output_type": "execute_result"
    }
   ],
   "source": [
    "linea137_df[\"agresor_cantidad\"].median()\n"
   ]
  },
  {
   "cell_type": "markdown",
   "metadata": {
    "id": "TlSINj_KupP_"
   },
   "source": [
    "Graficamos el **histograma** de frecuencia con media y mediana indicada."
   ]
  },
  {
   "cell_type": "code",
   "execution_count": 48,
   "metadata": {
    "colab": {
     "base_uri": "https://localhost:8080/",
     "height": 504
    },
    "id": "wHPpREv1uuNZ",
    "outputId": "656aa07a-d5f0-4986-f5c5-56d6c9de6fa8"
   },
   "outputs": [
    {
     "data": {
      "image/png": "[encoded data removed]",
      "text/plain": [
       "<Figure size 720x576 with 1 Axes>"
      ]
     },
     "metadata": {},
     "output_type": "display_data"
    }
   ],
   "source": [
    "fig = plt.figure(figsize=(10, 8))\n",
    "\n",
    "\n",
    "sns.countplot(data=linea137_df, x=\"agresor_cantidad\", palette=\"Set2\")\n",
    "\n",
    "\n",
    "# Agregamos la lineas de la media\n",
    "plt.axvline(\n",
    "    x=linea137_df.agresor_cantidad.mean(), linestyle=\"--\", color=\"purple\", label=\"Media\"\n",
    ")\n",
    "\n",
    "# Agregamos la lineas de la mediana\n",
    "plt.axvline(\n",
    "    x=linea137_df.agresor_cantidad.median(),\n",
    "    linestyle=\"-.\",\n",
    "    color=\"magenta\",\n",
    "    label=\"Mediana\",\n",
    ")\n",
    "\n",
    "plt.legend(prop={\"size\": \"medium\"})\n",
    "plt.xlabel(\"Cantidad de Agresores\", size=16)\n",
    "plt.ylabel(\"Frecuencia\", size=16)\n",
    "plt.ticklabel_format(axis=\"y\", style=\"plain\", scilimits=(-3, 3), useOffset=False)\n",
    "plt.show()\n"
   ]
  },
  {
   "cell_type": "markdown",
   "metadata": {
    "id": "1bAepGfowCsQ"
   },
   "source": [
    "**Observación:**\n",
    ">- En la gran mayoría de los casos el agresor es uno solo."
   ]
  },
  {
   "cell_type": "markdown",
   "metadata": {
    "id": "PZyp-QHTfxWC"
   },
   "source": [
    "\n",
    "<html>\n",
    "<hr>\n",
    "  <h1 align=\"center\";>\n",
    "  Relaciones relevantes\n",
    "  </h1>\n",
    "  <hr>\n",
    "</html>"
   ]
  },
  {
   "cell_type": "markdown",
   "metadata": {
    "id": "iiuQgZcZzMbM"
   },
   "source": [
    "Luego de analizar las variables de manera individual para conocer un poco mas los datos, nos interesa explorar las relaciones entre:\n",
    "\n",
    "a. **Género víctima** versus **Género agresor**\n",
    "\n",
    "b. **Llamante** y **derivación** de la llamada\n",
    "\n",
    "c. **Cantidad de víctimas** versus **Cantidad de agresores**\n"
   ]
  },
  {
   "cell_type": "markdown",
   "metadata": {
    "id": "UgZwJ0pt0B50"
   },
   "source": [
    "<html>\n",
    "  <h1 align=\"center\";>\n",
    "  a. Género Víctima vs Género Agresor\n",
    "  </h1>\n",
    "</html>"
   ]
  },
  {
   "cell_type": "markdown",
   "metadata": {},
   "source": [
    "Creamos una tabla de contingencia entre genero víctima y género agresor"
   ]
  },
  {
   "cell_type": "code",
   "execution_count": 49,
   "metadata": {
    "colab": {
     "base_uri": "https://localhost:8080/",
     "height": 206
    },
    "id": "NILmG6VFzxWg",
    "outputId": "c8cd495d-d232-4a4c-b0e3-e68eb8e4484a"
   },
   "outputs": [
    {
     "data": {
      "text/html": [
       "<div>\n",
       "<style scoped>\n",
       "    .dataframe tbody tr th:only-of-type {\n",
       "        vertical-align: middle;\n",
       "    }\n",
       "\n",
       "    .dataframe tbody tr th {\n",
       "        vertical-align: top;\n",
       "    }\n",
       "\n",
       "    .dataframe thead th {\n",
       "        text-align: right;\n",
       "    }\n",
       "</style>\n",
       "<table border=\"1\" class=\"dataframe\">\n",
       "  <thead>\n",
       "    <tr style=\"text-align: right;\">\n",
       "      <th>victima_genero</th>\n",
       "      <th>Femenino</th>\n",
       "      <th>Masculino</th>\n",
       "      <th>NS/NC</th>\n",
       "      <th>Transgénero</th>\n",
       "    </tr>\n",
       "    <tr>\n",
       "      <th>agresor_genero</th>\n",
       "      <th></th>\n",
       "      <th></th>\n",
       "      <th></th>\n",
       "      <th></th>\n",
       "    </tr>\n",
       "  </thead>\n",
       "  <tbody>\n",
       "    <tr>\n",
       "      <th>Femenino</th>\n",
       "      <td>4215</td>\n",
       "      <td>2250</td>\n",
       "      <td>420</td>\n",
       "      <td>14</td>\n",
       "    </tr>\n",
       "    <tr>\n",
       "      <th>Masculino</th>\n",
       "      <td>25072</td>\n",
       "      <td>2255</td>\n",
       "      <td>639</td>\n",
       "      <td>35</td>\n",
       "    </tr>\n",
       "    <tr>\n",
       "      <th>NS/NC</th>\n",
       "      <td>1132</td>\n",
       "      <td>387</td>\n",
       "      <td>9266</td>\n",
       "      <td>4</td>\n",
       "    </tr>\n",
       "    <tr>\n",
       "      <th>Transgénero</th>\n",
       "      <td>7</td>\n",
       "      <td>3</td>\n",
       "      <td>1</td>\n",
       "      <td>3</td>\n",
       "    </tr>\n",
       "  </tbody>\n",
       "</table>\n",
       "</div>"
      ],
      "text/plain": [
       "victima_genero  Femenino  Masculino  NS/NC  Transgénero\n",
       "agresor_genero                                         \n",
       "Femenino            4215       2250    420           14\n",
       "Masculino          25072       2255    639           35\n",
       "NS/NC               1132        387   9266            4\n",
       "Transgénero            7          3      1            3"
      ]
     },
     "execution_count": 49,
     "metadata": {},
     "output_type": "execute_result"
    }
   ],
   "source": [
    "tabla_contingencia2 = pd.crosstab(\n",
    "    linea137_df.agresor_genero, linea137_df.victima_genero\n",
    ")\n",
    "tabla_contingencia2\n"
   ]
  },
  {
   "cell_type": "code",
   "execution_count": 50,
   "metadata": {
    "colab": {
     "base_uri": "https://localhost:8080/",
     "height": 410
    },
    "id": "8wDOTkXvaGqQ",
    "outputId": "1513db7a-b98d-4329-9f48-eca030eec45d"
   },
   "outputs": [
    {
     "data": {
      "image/png": "[encoded data removed]",
      "text/plain": [
       "<Figure size 576x432 with 2 Axes>"
      ]
     },
     "metadata": {},
     "output_type": "display_data"
    }
   ],
   "source": [
    "f, ax = plt.subplots(figsize=(8, 6))\n",
    "sns.heatmap(tabla_contingencia2, annot=True, fmt=\"g\")\n",
    "plt.title(\"Mapa de calor 2\")\n",
    "plt.show()\n"
   ]
  },
  {
   "cell_type": "markdown",
   "metadata": {
    "id": "JKXqo3Nt0Kfx"
   },
   "source": [
    ">**Observación:**\n",
    ">\n",
    "> Se observa que en la gran mayoría de los casos, la víctima es femenina y el agresor masculino (25072 casos de los 45703)."
   ]
  },
  {
   "cell_type": "markdown",
   "metadata": {
    "id": "L0fADaBo1ckL"
   },
   "source": [
    "<html>\n",
    "  <h1 align=\"center\";>\n",
    "  b. Llamante y derivación de la llamada\n",
    "  </h1>\n",
    "</html>"
   ]
  },
  {
   "cell_type": "markdown",
   "metadata": {
    "id": "IlKn-hZTwN1s"
   },
   "source": [
    "#### Analizamos la cantidad de víctimas por el llamante de género y su derivación.\n",
    "\n",
    "Utilizamos el método `pivot_table` para analizar la relación entre ellas donde el valor del argumento de `aggfunc` es el `count`. "
   ]
  },
  {
   "cell_type": "code",
   "execution_count": 51,
   "metadata": {
    "colab": {
     "base_uri": "https://localhost:8080/",
     "height": 420
    },
    "id": "2XnopCFAfYSv",
    "outputId": "afca2abc-f0bb-425d-f8a3-14d66247d34d"
   },
   "outputs": [
    {
     "data": {
      "text/html": [
       "<div>\n",
       "<style scoped>\n",
       "    .dataframe tbody tr th:only-of-type {\n",
       "        vertical-align: middle;\n",
       "    }\n",
       "\n",
       "    .dataframe tbody tr th {\n",
       "        vertical-align: top;\n",
       "    }\n",
       "\n",
       "    .dataframe thead th {\n",
       "        text-align: right;\n",
       "    }\n",
       "</style>\n",
       "<table border=\"1\" class=\"dataframe\">\n",
       "  <thead>\n",
       "    <tr style=\"text-align: right;\">\n",
       "      <th>llamado_derivacion</th>\n",
       "      <th>Comunicación con los Equipos Móviles</th>\n",
       "      <th>Desplazamiento de un Equipo Móvil a donde se encontraba la/s víctima/s</th>\n",
       "      <th>Está interviniendo o se deriva a otra institución</th>\n",
       "      <th>La víctima no aceptó la intervención del Equipo Móvil</th>\n",
       "      <th>Llamante solicitó información y/o orientación</th>\n",
       "      <th>No había móviles y/o Equipos para realizar la intervención</th>\n",
       "      <th>No se desplazó un Equipo móvil por tratarse de un caso fuera de CABA</th>\n",
       "      <th>Otras</th>\n",
       "      <th>Se planificó intervención para otro momento</th>\n",
       "      <th>Se trata de un conflicto familiar</th>\n",
       "      <th>Total</th>\n",
       "    </tr>\n",
       "    <tr>\n",
       "      <th>llamante_genero</th>\n",
       "      <th></th>\n",
       "      <th></th>\n",
       "      <th></th>\n",
       "      <th></th>\n",
       "      <th></th>\n",
       "      <th></th>\n",
       "      <th></th>\n",
       "      <th></th>\n",
       "      <th></th>\n",
       "      <th></th>\n",
       "      <th></th>\n",
       "    </tr>\n",
       "  </thead>\n",
       "  <tbody>\n",
       "    <tr>\n",
       "      <th>Femenino</th>\n",
       "      <td>21.0</td>\n",
       "      <td>1465.0</td>\n",
       "      <td>609.0</td>\n",
       "      <td>3316.0</td>\n",
       "      <td>15593.0</td>\n",
       "      <td>1490.0</td>\n",
       "      <td>3591.0</td>\n",
       "      <td>3.0</td>\n",
       "      <td>654.0</td>\n",
       "      <td>2364.0</td>\n",
       "      <td>29106</td>\n",
       "    </tr>\n",
       "    <tr>\n",
       "      <th>Masculino</th>\n",
       "      <td>4.0</td>\n",
       "      <td>565.0</td>\n",
       "      <td>162.0</td>\n",
       "      <td>1838.0</td>\n",
       "      <td>4960.0</td>\n",
       "      <td>744.0</td>\n",
       "      <td>835.0</td>\n",
       "      <td>1.0</td>\n",
       "      <td>262.0</td>\n",
       "      <td>961.0</td>\n",
       "      <td>10332</td>\n",
       "    </tr>\n",
       "    <tr>\n",
       "      <th>NS/NC</th>\n",
       "      <td>3843.0</td>\n",
       "      <td>91.0</td>\n",
       "      <td>8.0</td>\n",
       "      <td>25.0</td>\n",
       "      <td>1718.0</td>\n",
       "      <td>14.0</td>\n",
       "      <td>65.0</td>\n",
       "      <td>58.0</td>\n",
       "      <td>10.0</td>\n",
       "      <td>403.0</td>\n",
       "      <td>6235</td>\n",
       "    </tr>\n",
       "    <tr>\n",
       "      <th>Transgénero</th>\n",
       "      <td>NaN</td>\n",
       "      <td>NaN</td>\n",
       "      <td>NaN</td>\n",
       "      <td>6.0</td>\n",
       "      <td>13.0</td>\n",
       "      <td>NaN</td>\n",
       "      <td>4.0</td>\n",
       "      <td>NaN</td>\n",
       "      <td>NaN</td>\n",
       "      <td>7.0</td>\n",
       "      <td>30</td>\n",
       "    </tr>\n",
       "    <tr>\n",
       "      <th>Total</th>\n",
       "      <td>3868.0</td>\n",
       "      <td>2121.0</td>\n",
       "      <td>779.0</td>\n",
       "      <td>5185.0</td>\n",
       "      <td>22284.0</td>\n",
       "      <td>2248.0</td>\n",
       "      <td>4495.0</td>\n",
       "      <td>62.0</td>\n",
       "      <td>926.0</td>\n",
       "      <td>3735.0</td>\n",
       "      <td>45703</td>\n",
       "    </tr>\n",
       "  </tbody>\n",
       "</table>\n",
       "</div>"
      ],
      "text/plain": [
       "llamado_derivacion  Comunicación con los Equipos Móviles  \\\n",
       "llamante_genero                                            \n",
       "Femenino                                            21.0   \n",
       "Masculino                                            4.0   \n",
       "NS/NC                                             3843.0   \n",
       "Transgénero                                          NaN   \n",
       "Total                                             3868.0   \n",
       "\n",
       "llamado_derivacion  Desplazamiento de un Equipo Móvil a donde se encontraba la/s víctima/s  \\\n",
       "llamante_genero                                                                              \n",
       "Femenino                                                       1465.0                        \n",
       "Masculino                                                       565.0                        \n",
       "NS/NC                                                            91.0                        \n",
       "Transgénero                                                       NaN                        \n",
       "Total                                                          2121.0                        \n",
       "\n",
       "llamado_derivacion  Está interviniendo o se deriva a otra institución  \\\n",
       "llamante_genero                                                         \n",
       "Femenino                                                        609.0   \n",
       "Masculino                                                       162.0   \n",
       "NS/NC                                                             8.0   \n",
       "Transgénero                                                       NaN   \n",
       "Total                                                           779.0   \n",
       "\n",
       "llamado_derivacion  La víctima no aceptó la intervención del Equipo Móvil  \\\n",
       "llamante_genero                                                             \n",
       "Femenino                                                       3316.0       \n",
       "Masculino                                                      1838.0       \n",
       "NS/NC                                                            25.0       \n",
       "Transgénero                                                       6.0       \n",
       "Total                                                          5185.0       \n",
       "\n",
       "llamado_derivacion  Llamante solicitó información y/o orientación  \\\n",
       "llamante_genero                                                     \n",
       "Femenino                                                  15593.0   \n",
       "Masculino                                                  4960.0   \n",
       "NS/NC                                                      1718.0   \n",
       "Transgénero                                                  13.0   \n",
       "Total                                                     22284.0   \n",
       "\n",
       "llamado_derivacion  No había móviles y/o Equipos para realizar la intervención  \\\n",
       "llamante_genero                                                                  \n",
       "Femenino                                                       1490.0            \n",
       "Masculino                                                       744.0            \n",
       "NS/NC                                                            14.0            \n",
       "Transgénero                                                       NaN            \n",
       "Total                                                          2248.0            \n",
       "\n",
       "llamado_derivacion  No se desplazó un Equipo móvil por tratarse de un caso fuera de CABA  \\\n",
       "llamante_genero                                                                            \n",
       "Femenino                                                       3591.0                      \n",
       "Masculino                                                       835.0                      \n",
       "NS/NC                                                            65.0                      \n",
       "Transgénero                                                       4.0                      \n",
       "Total                                                          4495.0                      \n",
       "\n",
       "llamado_derivacion  Otras  Se planificó intervención para otro momento  \\\n",
       "llamante_genero                                                          \n",
       "Femenino              3.0                                        654.0   \n",
       "Masculino             1.0                                        262.0   \n",
       "NS/NC                58.0                                         10.0   \n",
       "Transgénero           NaN                                          NaN   \n",
       "Total                62.0                                        926.0   \n",
       "\n",
       "llamado_derivacion  Se trata de un conflicto familiar  Total  \n",
       "llamante_genero                                               \n",
       "Femenino                                       2364.0  29106  \n",
       "Masculino                                       961.0  10332  \n",
       "NS/NC                                           403.0   6235  \n",
       "Transgénero                                       7.0     30  \n",
       "Total                                          3735.0  45703  "
      ]
     },
     "execution_count": 51,
     "metadata": {},
     "output_type": "execute_result"
    }
   ],
   "source": [
    "linea137_df.pivot_table(\n",
    "    \"victima_cantidad\",\n",
    "    index=\"llamante_genero\",\n",
    "    columns=\"llamado_derivacion\",\n",
    "    aggfunc=\"count\",\n",
    "    margins=True,\n",
    "    margins_name=\"Total\",\n",
    ")\n"
   ]
  },
  {
   "cell_type": "code",
   "execution_count": 52,
   "metadata": {
    "colab": {
     "base_uri": "https://localhost:8080/",
     "height": 365
    },
    "id": "qHHs_52OewL_",
    "outputId": "9cad76c7-ae2a-4092-f091-efe2b1ff1d7b"
   },
   "outputs": [
    {
     "data": {
      "image/png": "[encoded data removed]",
      "text/plain": [
       "<Figure size 1080x360 with 1 Axes>"
      ]
     },
     "metadata": {},
     "output_type": "display_data"
    }
   ],
   "source": [
    "with sns.axes_style(\"white\"):\n",
    "    g = sns.catplot(\n",
    "        x=\"llamante_genero\",\n",
    "        data=linea137_df,\n",
    "        aspect=3.0,\n",
    "        kind=\"count\",\n",
    "        palette=\"Set2\",\n",
    "        hue=\"llamado_derivacion\",\n",
    "        legend=False,\n",
    "    )\n",
    "    g.set_ylabels(\"Cantidad de llamado de Derivación\")\n",
    "    g.set_xlabels(\"Llamate de Género\")\n",
    "    plt.legend(loc=\"upper right\", prop={\"size\": \"medium\"})\n",
    "    sns.despine()\n",
    "    plt.show()\n"
   ]
  },
  {
   "cell_type": "markdown",
   "metadata": {
    "id": "ofEe1mTO1vt2"
   },
   "source": [
    ">**Observación:**\n",
    ">\n",
    ">- La mayoría de las derivaciónes son realizadas por el género Femenino donde el mayor caso la llamante solicitó información y/o orientación. \n",
    ">- La mayoria de las llamadas realizadas por el género Masculino y Transgénero solicitó información y/o orientación.  "
   ]
  },
  {
   "cell_type": "markdown",
   "metadata": {
    "id": "fDTLqi03-Xj9"
   },
   "source": [
    "<html>\n",
    "  <h1 align=\"center\";>\n",
    "  c. Cantidad de víctimas vs Cantidad de agresores\n",
    "  </h1>\n",
    "</html>"
   ]
  },
  {
   "cell_type": "markdown",
   "metadata": {
    "id": "pWy9oq1k-p3T"
   },
   "source": [
    "Para tener un pantallazo de los datos, vamos a calcular el rango de las variables.\n",
    "\n",
    "Calcularemos el valor mínimo, el máximo, el rango, algunos percentiles, así como el rango intercuartílico para cada una de las variables.\n",
    "\n",
    "Además, utilizaremos el método `unique()` para conocer los valores posibles de cada variable."
   ]
  },
  {
   "cell_type": "code",
   "execution_count": 53,
   "metadata": {
    "colab": {
     "base_uri": "https://localhost:8080/",
     "height": 112
    },
    "id": "15eGHRP3_bH5",
    "outputId": "759a3936-2c35-4ee3-893b-70126c014dc3"
   },
   "outputs": [
    {
     "data": {
      "text/html": [
       "<div>\n",
       "<style scoped>\n",
       "    .dataframe tbody tr th:only-of-type {\n",
       "        vertical-align: middle;\n",
       "    }\n",
       "\n",
       "    .dataframe tbody tr th {\n",
       "        vertical-align: top;\n",
       "    }\n",
       "\n",
       "    .dataframe thead th {\n",
       "        text-align: right;\n",
       "    }\n",
       "</style>\n",
       "<table border=\"1\" class=\"dataframe\">\n",
       "  <thead>\n",
       "    <tr style=\"text-align: right;\">\n",
       "      <th></th>\n",
       "      <th>min</th>\n",
       "      <th>max</th>\n",
       "      <th>std</th>\n",
       "      <th>range</th>\n",
       "      <th>q25</th>\n",
       "      <th>q50</th>\n",
       "      <th>q70</th>\n",
       "      <th>q75</th>\n",
       "      <th>range_intercuartil</th>\n",
       "      <th>count</th>\n",
       "    </tr>\n",
       "  </thead>\n",
       "  <tbody>\n",
       "    <tr>\n",
       "      <th>victima_cantidad</th>\n",
       "      <td>0</td>\n",
       "      <td>13</td>\n",
       "      <td>1.187485</td>\n",
       "      <td>13</td>\n",
       "      <td>1.0</td>\n",
       "      <td>1.0</td>\n",
       "      <td>2.0</td>\n",
       "      <td>2.0</td>\n",
       "      <td>1.0</td>\n",
       "      <td>45703</td>\n",
       "    </tr>\n",
       "    <tr>\n",
       "      <th>agresor_cantidad</th>\n",
       "      <td>0</td>\n",
       "      <td>51</td>\n",
       "      <td>0.556932</td>\n",
       "      <td>51</td>\n",
       "      <td>1.0</td>\n",
       "      <td>1.0</td>\n",
       "      <td>1.0</td>\n",
       "      <td>1.0</td>\n",
       "      <td>0.0</td>\n",
       "      <td>45703</td>\n",
       "    </tr>\n",
       "  </tbody>\n",
       "</table>\n",
       "</div>"
      ],
      "text/plain": [
       "                  min  max       std  range  q25  q50  q70  q75  \\\n",
       "victima_cantidad    0   13  1.187485     13  1.0  1.0  2.0  2.0   \n",
       "agresor_cantidad    0   51  0.556932     51  1.0  1.0  1.0  1.0   \n",
       "\n",
       "                  range_intercuartil  count  \n",
       "victima_cantidad                 1.0  45703  \n",
       "agresor_cantidad                 0.0  45703  "
      ]
     },
     "execution_count": 53,
     "metadata": {},
     "output_type": "execute_result"
    }
   ],
   "source": [
    "cols = [\"victima_cantidad\", \"agresor_cantidad\"]\n",
    "\n",
    "ranges = pd.DataFrame()\n",
    "ranges[\"min\"] = linea137_df[cols].min()\n",
    "ranges[\"max\"] = linea137_df[cols].max()\n",
    "ranges[\"std\"] = linea137_df[cols].std()\n",
    "ranges[\"range\"] = ranges[\"max\"] - ranges[\"min\"]\n",
    "ranges[\"q25\"] = linea137_df[cols].quantile(0.25)\n",
    "ranges[\"q50\"] = linea137_df[cols].quantile(0.50)\n",
    "ranges[\"q70\"] = linea137_df[cols].quantile(0.70)\n",
    "ranges[\"q75\"] = linea137_df[cols].quantile(0.75)\n",
    "ranges[\"range_intercuartil\"] = ranges[\"q75\"] - ranges[\"q25\"]\n",
    "ranges[\"count\"] = linea137_df[cols].count()\n",
    "ranges\n"
   ]
  },
  {
   "cell_type": "markdown",
   "metadata": {},
   "source": [
    "Vemos que hay un outlier, valor 51, el cual procedemos a eliminar"
   ]
  },
  {
   "cell_type": "code",
   "execution_count": 54,
   "metadata": {
    "id": "O4vltH6L4LlL"
   },
   "outputs": [],
   "source": [
    "linea137_limpia_df = linea137_df[(linea137_df.agresor_cantidad < 51)]\n"
   ]
  },
  {
   "cell_type": "markdown",
   "metadata": {},
   "source": [
    "Realizamos una Tabla de contingencia"
   ]
  },
  {
   "cell_type": "code",
   "execution_count": 55,
   "metadata": {
    "colab": {
     "base_uri": "https://localhost:8080/",
     "height": 520
    },
    "id": "1WX0JXeM5WyC",
    "outputId": "4e7cc8ce-e28a-4389-fb7e-29fbce814a91"
   },
   "outputs": [
    {
     "data": {
      "text/html": [
       "<div>\n",
       "<style scoped>\n",
       "    .dataframe tbody tr th:only-of-type {\n",
       "        vertical-align: middle;\n",
       "    }\n",
       "\n",
       "    .dataframe tbody tr th {\n",
       "        vertical-align: top;\n",
       "    }\n",
       "\n",
       "    .dataframe thead th {\n",
       "        text-align: right;\n",
       "    }\n",
       "</style>\n",
       "<table border=\"1\" class=\"dataframe\">\n",
       "  <thead>\n",
       "    <tr style=\"text-align: right;\">\n",
       "      <th>agresor_cantidad</th>\n",
       "      <th>0</th>\n",
       "      <th>1</th>\n",
       "      <th>2</th>\n",
       "      <th>3</th>\n",
       "      <th>4</th>\n",
       "      <th>5</th>\n",
       "      <th>6</th>\n",
       "      <th>7</th>\n",
       "    </tr>\n",
       "    <tr>\n",
       "      <th>victima_cantidad</th>\n",
       "      <th></th>\n",
       "      <th></th>\n",
       "      <th></th>\n",
       "      <th></th>\n",
       "      <th></th>\n",
       "      <th></th>\n",
       "      <th></th>\n",
       "      <th></th>\n",
       "    </tr>\n",
       "  </thead>\n",
       "  <tbody>\n",
       "    <tr>\n",
       "      <th>0</th>\n",
       "      <td>7992</td>\n",
       "      <td>154</td>\n",
       "      <td>12</td>\n",
       "      <td>1</td>\n",
       "      <td>1</td>\n",
       "      <td>1</td>\n",
       "      <td>0</td>\n",
       "      <td>0</td>\n",
       "    </tr>\n",
       "    <tr>\n",
       "      <th>1</th>\n",
       "      <td>191</td>\n",
       "      <td>21839</td>\n",
       "      <td>1346</td>\n",
       "      <td>133</td>\n",
       "      <td>37</td>\n",
       "      <td>8</td>\n",
       "      <td>1</td>\n",
       "      <td>0</td>\n",
       "    </tr>\n",
       "    <tr>\n",
       "      <th>2</th>\n",
       "      <td>71</td>\n",
       "      <td>6605</td>\n",
       "      <td>464</td>\n",
       "      <td>44</td>\n",
       "      <td>6</td>\n",
       "      <td>1</td>\n",
       "      <td>0</td>\n",
       "      <td>1</td>\n",
       "    </tr>\n",
       "    <tr>\n",
       "      <th>3</th>\n",
       "      <td>27</td>\n",
       "      <td>3776</td>\n",
       "      <td>260</td>\n",
       "      <td>21</td>\n",
       "      <td>6</td>\n",
       "      <td>1</td>\n",
       "      <td>0</td>\n",
       "      <td>0</td>\n",
       "    </tr>\n",
       "    <tr>\n",
       "      <th>4</th>\n",
       "      <td>11</td>\n",
       "      <td>1560</td>\n",
       "      <td>97</td>\n",
       "      <td>15</td>\n",
       "      <td>3</td>\n",
       "      <td>3</td>\n",
       "      <td>0</td>\n",
       "      <td>0</td>\n",
       "    </tr>\n",
       "    <tr>\n",
       "      <th>5</th>\n",
       "      <td>5</td>\n",
       "      <td>545</td>\n",
       "      <td>48</td>\n",
       "      <td>6</td>\n",
       "      <td>1</td>\n",
       "      <td>0</td>\n",
       "      <td>0</td>\n",
       "      <td>0</td>\n",
       "    </tr>\n",
       "    <tr>\n",
       "      <th>6</th>\n",
       "      <td>2</td>\n",
       "      <td>213</td>\n",
       "      <td>20</td>\n",
       "      <td>4</td>\n",
       "      <td>3</td>\n",
       "      <td>0</td>\n",
       "      <td>0</td>\n",
       "      <td>0</td>\n",
       "    </tr>\n",
       "    <tr>\n",
       "      <th>7</th>\n",
       "      <td>2</td>\n",
       "      <td>80</td>\n",
       "      <td>8</td>\n",
       "      <td>1</td>\n",
       "      <td>0</td>\n",
       "      <td>0</td>\n",
       "      <td>0</td>\n",
       "      <td>0</td>\n",
       "    </tr>\n",
       "    <tr>\n",
       "      <th>8</th>\n",
       "      <td>1</td>\n",
       "      <td>38</td>\n",
       "      <td>2</td>\n",
       "      <td>0</td>\n",
       "      <td>0</td>\n",
       "      <td>0</td>\n",
       "      <td>0</td>\n",
       "      <td>0</td>\n",
       "    </tr>\n",
       "    <tr>\n",
       "      <th>9</th>\n",
       "      <td>0</td>\n",
       "      <td>12</td>\n",
       "      <td>1</td>\n",
       "      <td>0</td>\n",
       "      <td>1</td>\n",
       "      <td>0</td>\n",
       "      <td>0</td>\n",
       "      <td>0</td>\n",
       "    </tr>\n",
       "    <tr>\n",
       "      <th>10</th>\n",
       "      <td>0</td>\n",
       "      <td>12</td>\n",
       "      <td>1</td>\n",
       "      <td>0</td>\n",
       "      <td>0</td>\n",
       "      <td>0</td>\n",
       "      <td>0</td>\n",
       "      <td>0</td>\n",
       "    </tr>\n",
       "    <tr>\n",
       "      <th>11</th>\n",
       "      <td>0</td>\n",
       "      <td>2</td>\n",
       "      <td>0</td>\n",
       "      <td>1</td>\n",
       "      <td>0</td>\n",
       "      <td>1</td>\n",
       "      <td>0</td>\n",
       "      <td>0</td>\n",
       "    </tr>\n",
       "    <tr>\n",
       "      <th>12</th>\n",
       "      <td>0</td>\n",
       "      <td>2</td>\n",
       "      <td>0</td>\n",
       "      <td>0</td>\n",
       "      <td>0</td>\n",
       "      <td>0</td>\n",
       "      <td>0</td>\n",
       "      <td>0</td>\n",
       "    </tr>\n",
       "    <tr>\n",
       "      <th>13</th>\n",
       "      <td>0</td>\n",
       "      <td>1</td>\n",
       "      <td>1</td>\n",
       "      <td>0</td>\n",
       "      <td>0</td>\n",
       "      <td>0</td>\n",
       "      <td>0</td>\n",
       "      <td>0</td>\n",
       "    </tr>\n",
       "  </tbody>\n",
       "</table>\n",
       "</div>"
      ],
      "text/plain": [
       "agresor_cantidad     0      1     2    3   4  5  6  7\n",
       "victima_cantidad                                     \n",
       "0                 7992    154    12    1   1  1  0  0\n",
       "1                  191  21839  1346  133  37  8  1  0\n",
       "2                   71   6605   464   44   6  1  0  1\n",
       "3                   27   3776   260   21   6  1  0  0\n",
       "4                   11   1560    97   15   3  3  0  0\n",
       "5                    5    545    48    6   1  0  0  0\n",
       "6                    2    213    20    4   3  0  0  0\n",
       "7                    2     80     8    1   0  0  0  0\n",
       "8                    1     38     2    0   0  0  0  0\n",
       "9                    0     12     1    0   1  0  0  0\n",
       "10                   0     12     1    0   0  0  0  0\n",
       "11                   0      2     0    1   0  1  0  0\n",
       "12                   0      2     0    0   0  0  0  0\n",
       "13                   0      1     1    0   0  0  0  0"
      ]
     },
     "execution_count": 55,
     "metadata": {},
     "output_type": "execute_result"
    }
   ],
   "source": [
    "tabla_contingencia1 = pd.crosstab(\n",
    "    linea137_limpia_df.victima_cantidad, linea137_limpia_df.agresor_cantidad\n",
    ")\n",
    "tabla_contingencia1\n"
   ]
  },
  {
   "cell_type": "code",
   "execution_count": 56,
   "metadata": {
    "colab": {
     "base_uri": "https://localhost:8080/",
     "height": 627
    },
    "id": "YqGDIPfj5tgr",
    "outputId": "1ff04e56-b389-4d8b-d63c-8bfced8a7efd"
   },
   "outputs": [
    {
     "data": {
      "image/png": "[encoded data removed]",
      "text/plain": [
       "<Figure size 1008x720 with 2 Axes>"
      ]
     },
     "metadata": {},
     "output_type": "display_data"
    }
   ],
   "source": [
    "f, ax = plt.subplots(figsize=(14, 10))\n",
    "sns.heatmap(tabla_contingencia1, annot=True, fmt=\"g\")\n",
    "plt.title(\"Mapa de calor 1\")\n",
    "plt.show()\n"
   ]
  },
  {
   "cell_type": "code",
   "execution_count": 57,
   "metadata": {
    "colab": {
     "base_uri": "https://localhost:8080/"
    },
    "id": "L3IlZiaq-jud",
    "outputId": "1cd75aff-3b44-40e7-db03-4415568ac19c"
   },
   "outputs": [
    {
     "data": {
      "text/plain": [
       "[array([ 3,  2,  1,  4,  6,  0,  5,  7,  8, 10,  9, 11, 13, 12],\n",
       "       dtype=int64),\n",
       " array([ 1,  0,  3,  2,  4,  5, 51,  7,  6], dtype=int64)]"
      ]
     },
     "execution_count": 57,
     "metadata": {},
     "output_type": "execute_result"
    }
   ],
   "source": [
    "[linea137_df.victima_cantidad.unique()] + [linea137_df.agresor_cantidad.unique()]\n"
   ]
  },
  {
   "cell_type": "markdown",
   "metadata": {
    "id": "80ZNz0ZhHfWj"
   },
   "source": [
    "Podemos hacer tambien un análisis de la cantidad máxima de agresores y de víctimas a los largo de los años, se tiene en cuenta que el 2022 tendrá menos datos debido a que es el año en curso.\n",
    "\n"
   ]
  },
  {
   "cell_type": "markdown",
   "metadata": {},
   "source": [
    "Se crea una nueva columna, solo con los años."
   ]
  },
  {
   "cell_type": "code",
   "execution_count": null,
   "metadata": {
    "colab": {
     "base_uri": "https://localhost:8080/"
    },
    "id": "mdmAF-xgIJkR",
    "outputId": "bfbc1e7d-3b84-4e48-9e90-63ba9fc5894c"
   },
   "outputs": [],
   "source": [
    "linea137_limpia_df[\"llamado_fecha_anio\"] = pd.to_datetime(\n",
    "    linea137_limpia_df[\"llamado_fecha\"]\n",
    ").dt.year;\n"
   ]
  },
  {
   "cell_type": "code",
   "execution_count": 59,
   "metadata": {
    "colab": {
     "base_uri": "https://localhost:8080/",
     "height": 518
    },
    "id": "HdTNsNtpHwOA",
    "outputId": "4183e56d-74c0-4595-8527-7be4e7f1f538"
   },
   "outputs": [
    {
     "data": {
      "image/png": "[encoded data removed]",
      "text/plain": [
       "<Figure size 1152x576 with 1 Axes>"
      ]
     },
     "metadata": {},
     "output_type": "display_data"
    }
   ],
   "source": [
    "fig = plt.figure(figsize=(16, 8))\n",
    "data = linea137_limpia_df[\n",
    "    [\"llamado_fecha_anio\", \"victima_cantidad\", \"agresor_cantidad\"]\n",
    "]\n",
    "\n",
    "sp1 = plt.subplot(1, 1, 1)\n",
    "sp1.set_title(\"Grafico de Número máximo de victimas/agresores en el tiempo\")\n",
    "sns.pointplot(\n",
    "    x=\"llamado_fecha_anio\",\n",
    "    y=\"value\",\n",
    "    data=pd.melt(\n",
    "        data, [\"llamado_fecha_anio\"], [\"victima_cantidad\", \"agresor_cantidad\"]\n",
    "    ),\n",
    "    hue=\"variable\",\n",
    "    ci=None,\n",
    "    estimator=numpy.max,\n",
    "    markers=\"o\",\n",
    "    linestyles=\"--\",\n",
    "    ax=sp1,\n",
    ")\n",
    "plt.show()\n"
   ]
  },
  {
   "cell_type": "markdown",
   "metadata": {
    "id": "6Uqrth2xKQ-q"
   },
   "source": [
    ">**Observación:**\n",
    ">\n",
    ">Se observa que para la cantidad  maxima de agresores, hubo un salto importante en el año 2021, además se puede ver que hay una mayor cantidad de victimas que de agresores.\n",
    ">\n",
    ">Se puede tener informacion de la media de la cantidad de victimas y agresores, que se corresponde con el cálculo del rango de valores que se realizó anteriormente"
   ]
  },
  {
   "cell_type": "code",
   "execution_count": 60,
   "metadata": {
    "colab": {
     "base_uri": "https://localhost:8080/",
     "height": 518
    },
    "id": "m63EWnL3LOqD",
    "outputId": "89781e60-01a1-4598-cfd4-8975542aa0c4"
   },
   "outputs": [
    {
     "data": {
      "image/png": "[encoded data removed]",
      "text/plain": [
       "<Figure size 1152x576 with 1 Axes>"
      ]
     },
     "metadata": {},
     "output_type": "display_data"
    }
   ],
   "source": [
    "fig = plt.figure(figsize=(16, 8))\n",
    "data = linea137_limpia_df[\n",
    "    [\"llamado_fecha_anio\", \"victima_cantidad\", \"agresor_cantidad\"]\n",
    "]\n",
    "\n",
    "sp1 = plt.subplot(1, 1, 1)\n",
    "sp1.set_title(\"Grafico de Número máximo de victimas/agresores en el tiempo\")\n",
    "sns.pointplot(\n",
    "    x=\"llamado_fecha_anio\",\n",
    "    y=\"value\",\n",
    "    data=pd.melt(\n",
    "        data, [\"llamado_fecha_anio\"], [\"victima_cantidad\", \"agresor_cantidad\"]\n",
    "    ),\n",
    "    hue=\"variable\",\n",
    "    ci=None,\n",
    "    estimator=numpy.mean,\n",
    "    markers=\"o\",\n",
    "    linestyles=\"--\",\n",
    "    ax=sp1,\n",
    ")\n",
    "plt.show()\n"
   ]
  },
  {
   "cell_type": "markdown",
   "metadata": {
    "id": "YJ45ObpfM1NU"
   },
   "source": [
    "Es interesante también observar la relación Victima/Agresor, teniendo en cuenta el género de la Victima"
   ]
  },
  {
   "cell_type": "code",
   "execution_count": 61,
   "metadata": {
    "colab": {
     "base_uri": "https://localhost:8080/",
     "height": 742
    },
    "id": "XHauvVChLyeY",
    "outputId": "f9b8d566-666a-4384-eb1e-7c6111f01227"
   },
   "outputs": [
    {
     "data": {
      "text/plain": [
       "<Figure size 1152x576 with 0 Axes>"
      ]
     },
     "metadata": {},
     "output_type": "display_data"
    },
    {
     "data": {
      "image/png": "[encoded data removed]",
      "text/plain": [
       "<Figure size 821.725x720 with 4 Axes>"
      ]
     },
     "metadata": {},
     "output_type": "display_data"
    }
   ],
   "source": [
    "fig = plt.figure(figsize=(16, 8))\n",
    "hue_colors = {\n",
    "    \"Femenino\": \"Pink\",\n",
    "    \"Masculino\": \"Blue\",\n",
    "    \"NS/NC\": \"gray\",\n",
    "    \"Transgénero\": \"Red\",\n",
    "}\n",
    "# Se definen los colores que van a representar a cada categoria\n",
    "\n",
    "sns.relplot(\n",
    "    x=\"agresor_cantidad\",\n",
    "    y=\"victima_cantidad\",\n",
    "    data=linea137_limpia_df,\n",
    "    kind=\"scatter\",\n",
    "    col=\"victima_genero\",\n",
    "    col_wrap=2,\n",
    "    palette=hue_colors,\n",
    "    hue=\"victima_genero\",\n",
    "    size=\"victima_genero\",\n",
    ")\n",
    "plt.show()\n"
   ]
  },
  {
   "cell_type": "markdown",
   "metadata": {
    "id": "wrtFMZ98Nqxf"
   },
   "source": [
    "**Observación:**\n",
    ">- Se puede ver que en general, hay una mayor cantidad de victimas de género Femenino y la relación mas predominante de víctima/agresor es de uno a uno."
   ]
  },
  {
   "cell_type": "markdown",
   "metadata": {
    "id": "bHLa6Weu84eJ"
   },
   "source": [
    "<html>\n",
    "<hr>\n",
    "  <h1 align=\"center\";>\n",
    "  Conclusión\n",
    "  </h1>\n",
    "  <hr>\n",
    "</html>"
   ]
  },
  {
   "cell_type": "markdown",
   "metadata": {
    "id": "0ChI5Qlz9DHl"
   },
   "source": [
    "Nos encontramos frente a una base de datos de información recopilada or profesionales de la línea 137 de Víctimas de Violencia Familiar, desde Enero 2017 hasta Febrero 2022.\n",
    "\n",
    "La base de datos obtenida contiene la información de un total de 45703 llamadas en el período mencionado y se dispone en ella de 13 columnas con datos, de las cuales se analizaron 10:\n",
    "\n",
    "1. `llamante_descripcion`\n",
    "2. `llamante_genero`\n",
    "3. `llamante_vinculo_ninios_presentes`\n",
    "4. `violencia_tipo`\n",
    "5. `victima_genero`\n",
    "6. `agresor_genero`\n",
    "7. `agresor_relacion_victima`\n",
    "8. `llamado_derivacion`\n",
    "9. `victima_cantidad`\n",
    "10. `agresor_cantidad`\n",
    "\n",
    "Por el momento no se analizaron las siguientes columnas:\n",
    "\n",
    "- `fecha`\n",
    "- `hora de la llamada`\n",
    "\n",
    "El propósito es conocer un poco los datos, detectar outliers, y empezar a explorar relaciones entre los mismos.\n",
    "\n",
    "Al analizar los datos se observa de manera resumida lo siguiente:\n",
    "\n",
    "- La mayoría de las llamadas a la Línea 137 son hechas por las mismas víctimas que son predominantemente del género femenino. Respecto al involucramiento o no de niñas/os en estos casos, se observa una distribución semejante entre niñas/os que son hijos del llamante, casos en los que se desconoce si hay niñas/os, y casos en los que se conoce que no hay niñas/os involucrados o presentes en los hechos denunciados.\n",
    "\n",
    "- La violencia denunciada suele ser física y psicológica y el agresor, más frecuentemente de género masculino, suele ser la pareja o ex-pareja de la víctima.\n",
    "\n",
    "- La mayoría de las llamadas no llevan a ninguna acción por parte de la Línea 137 o de la policía, sino que se centran en el pedido de información u orientación. Por lo general hay una única víctima y un único agresor."
   ]
  }
 ],
 "metadata": {
  "colab": {
   "collapsed_sections": [],
   "name": "AyV - Linea 137.ipynb",
   "provenance": []
  },
  "kernelspec": {
   "display_name": "Python 3 (ipykernel)",
   "language": "python",
   "name": "python3"
  },
  "language_info": {
   "codemirror_mode": {
    "name": "ipython",
    "version": 3
   },
   "file_extension": ".py",
   "mimetype": "text/x-python",
   "name": "python",
   "nbconvert_exporter": "python",
   "pygments_lexer": "ipython3",
   "version": "3.9.7"
  }
 },
 "nbformat": 4,
 "nbformat_minor": 4
}
